{
 "cells": [
  {
   "cell_type": "markdown",
   "id": "7483e0c6-7efa-44d0-bc57-651166acb6c5",
   "metadata": {},
   "source": [
    "### TASK :- 02 "
   ]
  },
  {
   "cell_type": "markdown",
   "id": "f40547ef-02f9-4862-974b-dcbc6f95ebb9",
   "metadata": {},
   "source": [
    "##### Customer Segmentation"
   ]
  },
  {
   "cell_type": "markdown",
   "id": "82439b95-f0e8-4576-a7fc-e73de961977e",
   "metadata": {},
   "source": [
    "#### libraries (modules or packages)"
   ]
  },
  {
   "cell_type": "code",
   "execution_count": 1,
   "id": "914ce15e-000d-45e7-8219-6b7437fc9f2e",
   "metadata": {},
   "outputs": [],
   "source": [
    "import pandas as pd\n",
    "import numpy as np\n",
    "import matplotlib.pyplot as plt\n",
    "import seaborn as sns"
   ]
  },
  {
   "cell_type": "markdown",
   "id": "9de8b115-14c3-4f98-a550-9b267db359c9",
   "metadata": {},
   "source": [
    "#### Import and understand the dataset."
   ]
  },
  {
   "cell_type": "code",
   "execution_count": 13,
   "id": "ce9e9661-807c-4d80-9a89-2f26b7a5860a",
   "metadata": {},
   "outputs": [
    {
     "data": {
      "text/html": [
       "<div>\n",
       "<style scoped>\n",
       "    .dataframe tbody tr th:only-of-type {\n",
       "        vertical-align: middle;\n",
       "    }\n",
       "\n",
       "    .dataframe tbody tr th {\n",
       "        vertical-align: top;\n",
       "    }\n",
       "\n",
       "    .dataframe thead th {\n",
       "        text-align: right;\n",
       "    }\n",
       "</style>\n",
       "<table border=\"1\" class=\"dataframe\">\n",
       "  <thead>\n",
       "    <tr style=\"text-align: right;\">\n",
       "      <th></th>\n",
       "      <th>Row ID</th>\n",
       "      <th>Order ID</th>\n",
       "      <th>Order Date</th>\n",
       "      <th>Dispatch Date</th>\n",
       "      <th>Delivery Mode</th>\n",
       "      <th>Customer ID</th>\n",
       "      <th>Customer Name</th>\n",
       "      <th>Segment</th>\n",
       "      <th>City</th>\n",
       "      <th>State/Province</th>\n",
       "      <th>Country/Region</th>\n",
       "      <th>Region</th>\n",
       "      <th>Product ID</th>\n",
       "      <th>Category</th>\n",
       "      <th>Sub-Category</th>\n",
       "      <th>Product Name</th>\n",
       "      <th>Sales</th>\n",
       "      <th>Quantity</th>\n",
       "      <th>Discount</th>\n",
       "      <th>Profit</th>\n",
       "    </tr>\n",
       "  </thead>\n",
       "  <tbody>\n",
       "    <tr>\n",
       "      <th>0</th>\n",
       "      <td>1</td>\n",
       "      <td>ES-2023-1311038</td>\n",
       "      <td>2023-02-07</td>\n",
       "      <td>2023-02-11</td>\n",
       "      <td>Standard Class</td>\n",
       "      <td>AS-10045</td>\n",
       "      <td>Aaron Smayling</td>\n",
       "      <td>Corporate</td>\n",
       "      <td>Leeds</td>\n",
       "      <td>England</td>\n",
       "      <td>United Kingdom</td>\n",
       "      <td>North</td>\n",
       "      <td>OFF-ST-10000988</td>\n",
       "      <td>Office Supplies</td>\n",
       "      <td>Storage</td>\n",
       "      <td>Fellowes Folders, Blue</td>\n",
       "      <td>79.20</td>\n",
       "      <td>3</td>\n",
       "      <td>0.0</td>\n",
       "      <td>39.60</td>\n",
       "    </tr>\n",
       "    <tr>\n",
       "      <th>1</th>\n",
       "      <td>2</td>\n",
       "      <td>ES-2023-1311038</td>\n",
       "      <td>2023-02-07</td>\n",
       "      <td>2023-02-11</td>\n",
       "      <td>Standard Class</td>\n",
       "      <td>AS-10045</td>\n",
       "      <td>Aaron Smayling</td>\n",
       "      <td>Corporate</td>\n",
       "      <td>Leeds</td>\n",
       "      <td>England</td>\n",
       "      <td>United Kingdom</td>\n",
       "      <td>North</td>\n",
       "      <td>TEC-AC-10004144</td>\n",
       "      <td>Technology</td>\n",
       "      <td>Accessories</td>\n",
       "      <td>SanDisk Numeric Keypad, Bluetooth</td>\n",
       "      <td>388.92</td>\n",
       "      <td>7</td>\n",
       "      <td>0.0</td>\n",
       "      <td>0.00</td>\n",
       "    </tr>\n",
       "    <tr>\n",
       "      <th>2</th>\n",
       "      <td>3</td>\n",
       "      <td>ES-2023-1311038</td>\n",
       "      <td>2023-02-07</td>\n",
       "      <td>2023-02-11</td>\n",
       "      <td>Standard Class</td>\n",
       "      <td>AS-10045</td>\n",
       "      <td>Aaron Smayling</td>\n",
       "      <td>Corporate</td>\n",
       "      <td>Leeds</td>\n",
       "      <td>England</td>\n",
       "      <td>United Kingdom</td>\n",
       "      <td>North</td>\n",
       "      <td>OFF-LA-10001915</td>\n",
       "      <td>Office Supplies</td>\n",
       "      <td>Labels</td>\n",
       "      <td>Avery Legal Exhibit Labels, 5000 Label Set</td>\n",
       "      <td>35.19</td>\n",
       "      <td>3</td>\n",
       "      <td>0.0</td>\n",
       "      <td>16.11</td>\n",
       "    </tr>\n",
       "    <tr>\n",
       "      <th>3</th>\n",
       "      <td>4</td>\n",
       "      <td>ES-2023-1311038</td>\n",
       "      <td>2023-02-07</td>\n",
       "      <td>2023-02-11</td>\n",
       "      <td>Standard Class</td>\n",
       "      <td>AS-10045</td>\n",
       "      <td>Aaron Smayling</td>\n",
       "      <td>Corporate</td>\n",
       "      <td>Leeds</td>\n",
       "      <td>England</td>\n",
       "      <td>United Kingdom</td>\n",
       "      <td>North</td>\n",
       "      <td>OFF-ST-10004550</td>\n",
       "      <td>Office Supplies</td>\n",
       "      <td>Storage</td>\n",
       "      <td>Fellowes Folders, Wire Frame</td>\n",
       "      <td>50.94</td>\n",
       "      <td>2</td>\n",
       "      <td>0.0</td>\n",
       "      <td>13.20</td>\n",
       "    </tr>\n",
       "    <tr>\n",
       "      <th>4</th>\n",
       "      <td>5</td>\n",
       "      <td>ES-2023-1311038</td>\n",
       "      <td>2023-02-07</td>\n",
       "      <td>2023-02-11</td>\n",
       "      <td>Standard Class</td>\n",
       "      <td>AS-10045</td>\n",
       "      <td>Aaron Smayling</td>\n",
       "      <td>Corporate</td>\n",
       "      <td>Leeds</td>\n",
       "      <td>England</td>\n",
       "      <td>United Kingdom</td>\n",
       "      <td>North</td>\n",
       "      <td>TEC-AC-10004068</td>\n",
       "      <td>Technology</td>\n",
       "      <td>Accessories</td>\n",
       "      <td>Memorex Memory Card, USB</td>\n",
       "      <td>307.44</td>\n",
       "      <td>3</td>\n",
       "      <td>0.0</td>\n",
       "      <td>73.71</td>\n",
       "    </tr>\n",
       "  </tbody>\n",
       "</table>\n",
       "</div>"
      ],
      "text/plain": [
       "   Row ID         Order ID Order Date Dispatch Date   Delivery Mode  \\\n",
       "0       1  ES-2023-1311038 2023-02-07    2023-02-11  Standard Class   \n",
       "1       2  ES-2023-1311038 2023-02-07    2023-02-11  Standard Class   \n",
       "2       3  ES-2023-1311038 2023-02-07    2023-02-11  Standard Class   \n",
       "3       4  ES-2023-1311038 2023-02-07    2023-02-11  Standard Class   \n",
       "4       5  ES-2023-1311038 2023-02-07    2023-02-11  Standard Class   \n",
       "\n",
       "  Customer ID   Customer Name    Segment   City State/Province  \\\n",
       "0    AS-10045  Aaron Smayling  Corporate  Leeds        England   \n",
       "1    AS-10045  Aaron Smayling  Corporate  Leeds        England   \n",
       "2    AS-10045  Aaron Smayling  Corporate  Leeds        England   \n",
       "3    AS-10045  Aaron Smayling  Corporate  Leeds        England   \n",
       "4    AS-10045  Aaron Smayling  Corporate  Leeds        England   \n",
       "\n",
       "   Country/Region Region       Product ID         Category Sub-Category  \\\n",
       "0  United Kingdom  North  OFF-ST-10000988  Office Supplies      Storage   \n",
       "1  United Kingdom  North  TEC-AC-10004144       Technology  Accessories   \n",
       "2  United Kingdom  North  OFF-LA-10001915  Office Supplies       Labels   \n",
       "3  United Kingdom  North  OFF-ST-10004550  Office Supplies      Storage   \n",
       "4  United Kingdom  North  TEC-AC-10004068       Technology  Accessories   \n",
       "\n",
       "                                 Product Name   Sales  Quantity  Discount  \\\n",
       "0                      Fellowes Folders, Blue   79.20         3       0.0   \n",
       "1           SanDisk Numeric Keypad, Bluetooth  388.92         7       0.0   \n",
       "2  Avery Legal Exhibit Labels, 5000 Label Set   35.19         3       0.0   \n",
       "3                Fellowes Folders, Wire Frame   50.94         2       0.0   \n",
       "4                    Memorex Memory Card, USB  307.44         3       0.0   \n",
       "\n",
       "   Profit  \n",
       "0   39.60  \n",
       "1    0.00  \n",
       "2   16.11  \n",
       "3   13.20  \n",
       "4   73.71  "
      ]
     },
     "execution_count": 13,
     "metadata": {},
     "output_type": "execute_result"
    }
   ],
   "source": [
    "df = pd.read_excel(r\"C:\\Users\\Personal\\Downloads\\Sample SuperStore - Europe (1).xls\")\n",
    "df.head(5)"
   ]
  },
  {
   "cell_type": "markdown",
   "id": "06076135-7534-486f-a801-6ada9b14eb48",
   "metadata": {},
   "source": [
    "#### Sanity Check"
   ]
  },
  {
   "cell_type": "code",
   "execution_count": 16,
   "id": "09ddadd6-4a9c-4a26-af3c-d333972098b7",
   "metadata": {},
   "outputs": [
    {
     "data": {
      "text/plain": [
       "(10000, 20)"
      ]
     },
     "execution_count": 16,
     "metadata": {},
     "output_type": "execute_result"
    }
   ],
   "source": [
    "# shape of dataset\n",
    "df.shape"
   ]
  },
  {
   "cell_type": "code",
   "execution_count": 17,
   "id": "041b2398-47b3-4309-8136-29fd8deabca1",
   "metadata": {},
   "outputs": [
    {
     "data": {
      "text/plain": [
       "2"
      ]
     },
     "execution_count": 17,
     "metadata": {},
     "output_type": "execute_result"
    }
   ],
   "source": [
    "# number of dimensions\n",
    "df.ndim"
   ]
  },
  {
   "cell_type": "code",
   "execution_count": 6,
   "id": "76e05fc9-0dbd-4fda-85c2-5b54708ef7a7",
   "metadata": {},
   "outputs": [
    {
     "name": "stdout",
     "output_type": "stream",
     "text": [
      "<class 'pandas.core.frame.DataFrame'>\n",
      "RangeIndex: 10000 entries, 0 to 9999\n",
      "Data columns (total 20 columns):\n",
      " #   Column          Non-Null Count  Dtype         \n",
      "---  ------          --------------  -----         \n",
      " 0   Row ID          10000 non-null  int64         \n",
      " 1   Order ID        10000 non-null  object        \n",
      " 2   Order Date      10000 non-null  datetime64[ns]\n",
      " 3   Dispatch Date   10000 non-null  datetime64[ns]\n",
      " 4   Delivery Mode   10000 non-null  object        \n",
      " 5   Customer ID     10000 non-null  object        \n",
      " 6   Customer Name   10000 non-null  object        \n",
      " 7   Segment         10000 non-null  object        \n",
      " 8   City            10000 non-null  object        \n",
      " 9   State/Province  10000 non-null  object        \n",
      " 10  Country/Region  10000 non-null  object        \n",
      " 11  Region          10000 non-null  object        \n",
      " 12  Product ID      10000 non-null  object        \n",
      " 13  Category        10000 non-null  object        \n",
      " 14  Sub-Category    10000 non-null  object        \n",
      " 15  Product Name    10000 non-null  object        \n",
      " 16  Sales           10000 non-null  float64       \n",
      " 17  Quantity        10000 non-null  int64         \n",
      " 18  Discount        10000 non-null  float64       \n",
      " 19  Profit          10000 non-null  float64       \n",
      "dtypes: datetime64[ns](2), float64(3), int64(2), object(13)\n",
      "memory usage: 1.5+ MB\n"
     ]
    }
   ],
   "source": [
    "# data information and Data types\n",
    "df.info()"
   ]
  },
  {
   "cell_type": "code",
   "execution_count": 7,
   "id": "1b9c9de9-eed3-42aa-bf76-4e0fc0974741",
   "metadata": {},
   "outputs": [
    {
     "data": {
      "text/plain": [
       "0"
      ]
     },
     "execution_count": 7,
     "metadata": {},
     "output_type": "execute_result"
    }
   ],
   "source": [
    "# Check Duplicates\n",
    "df.duplicated().sum()"
   ]
  },
  {
   "cell_type": "code",
   "execution_count": 9,
   "id": "2c364603-4052-4a0f-a14f-a40fb93187fd",
   "metadata": {},
   "outputs": [
    {
     "data": {
      "text/plain": [
       "Row ID            0\n",
       "Order ID          0\n",
       "Order Date        0\n",
       "Dispatch Date     0\n",
       "Delivery Mode     0\n",
       "Customer ID       0\n",
       "Customer Name     0\n",
       "Segment           0\n",
       "City              0\n",
       "State/Province    0\n",
       "Country/Region    0\n",
       "Region            0\n",
       "Product ID        0\n",
       "Category          0\n",
       "Sub-Category      0\n",
       "Product Name      0\n",
       "Sales             0\n",
       "Quantity          0\n",
       "Discount          0\n",
       "Profit            0\n",
       "dtype: int64"
      ]
     },
     "execution_count": 9,
     "metadata": {},
     "output_type": "execute_result"
    }
   ],
   "source": [
    "# Missing Values\n",
    "\n",
    "df.isnull().sum()"
   ]
  },
  {
   "cell_type": "code",
   "execution_count": 8,
   "id": "eaabfb00-7533-4525-bad0-7d2696b99ec5",
   "metadata": {},
   "outputs": [
    {
     "data": {
      "text/html": [
       "<div>\n",
       "<style scoped>\n",
       "    .dataframe tbody tr th:only-of-type {\n",
       "        vertical-align: middle;\n",
       "    }\n",
       "\n",
       "    .dataframe tbody tr th {\n",
       "        vertical-align: top;\n",
       "    }\n",
       "\n",
       "    .dataframe thead th {\n",
       "        text-align: right;\n",
       "    }\n",
       "</style>\n",
       "<table border=\"1\" class=\"dataframe\">\n",
       "  <thead>\n",
       "    <tr style=\"text-align: right;\">\n",
       "      <th></th>\n",
       "      <th>Row ID</th>\n",
       "      <th>Order Date</th>\n",
       "      <th>Dispatch Date</th>\n",
       "      <th>Sales</th>\n",
       "      <th>Quantity</th>\n",
       "      <th>Discount</th>\n",
       "      <th>Profit</th>\n",
       "    </tr>\n",
       "  </thead>\n",
       "  <tbody>\n",
       "    <tr>\n",
       "      <th>count</th>\n",
       "      <td>10000.00000</td>\n",
       "      <td>10000</td>\n",
       "      <td>10000</td>\n",
       "      <td>10000.000000</td>\n",
       "      <td>10000.000000</td>\n",
       "      <td>10000.000000</td>\n",
       "      <td>10000.000000</td>\n",
       "    </tr>\n",
       "    <tr>\n",
       "      <th>mean</th>\n",
       "      <td>5000.50000</td>\n",
       "      <td>2022-05-14 19:07:40.799999744</td>\n",
       "      <td>2022-05-16 12:04:36.479999744</td>\n",
       "      <td>293.808906</td>\n",
       "      <td>3.777300</td>\n",
       "      <td>0.103105</td>\n",
       "      <td>37.282974</td>\n",
       "    </tr>\n",
       "    <tr>\n",
       "      <th>min</th>\n",
       "      <td>1.00000</td>\n",
       "      <td>2020-01-01 00:00:00</td>\n",
       "      <td>2020-01-05 00:00:00</td>\n",
       "      <td>2.955000</td>\n",
       "      <td>1.000000</td>\n",
       "      <td>0.000000</td>\n",
       "      <td>-3059.820000</td>\n",
       "    </tr>\n",
       "    <tr>\n",
       "      <th>25%</th>\n",
       "      <td>2500.75000</td>\n",
       "      <td>2021-06-30 00:00:00</td>\n",
       "      <td>2021-07-05 00:00:00</td>\n",
       "      <td>49.462500</td>\n",
       "      <td>2.000000</td>\n",
       "      <td>0.000000</td>\n",
       "      <td>1.320000</td>\n",
       "    </tr>\n",
       "    <tr>\n",
       "      <th>50%</th>\n",
       "      <td>5000.50000</td>\n",
       "      <td>2022-07-09 00:00:00</td>\n",
       "      <td>2022-07-11 00:00:00</td>\n",
       "      <td>119.355000</td>\n",
       "      <td>3.000000</td>\n",
       "      <td>0.000000</td>\n",
       "      <td>14.220000</td>\n",
       "    </tr>\n",
       "    <tr>\n",
       "      <th>75%</th>\n",
       "      <td>7500.25000</td>\n",
       "      <td>2023-06-03 00:00:00</td>\n",
       "      <td>2023-05-28 00:00:00</td>\n",
       "      <td>320.708625</td>\n",
       "      <td>5.000000</td>\n",
       "      <td>0.100000</td>\n",
       "      <td>48.510000</td>\n",
       "    </tr>\n",
       "    <tr>\n",
       "      <th>max</th>\n",
       "      <td>10000.00000</td>\n",
       "      <td>2023-12-31 00:00:00</td>\n",
       "      <td>2023-12-31 00:00:00</td>\n",
       "      <td>7958.580000</td>\n",
       "      <td>14.000000</td>\n",
       "      <td>0.850000</td>\n",
       "      <td>3979.080000</td>\n",
       "    </tr>\n",
       "    <tr>\n",
       "      <th>std</th>\n",
       "      <td>2886.89568</td>\n",
       "      <td>NaN</td>\n",
       "      <td>NaN</td>\n",
       "      <td>486.055635</td>\n",
       "      <td>2.203268</td>\n",
       "      <td>0.174782</td>\n",
       "      <td>178.100384</td>\n",
       "    </tr>\n",
       "  </tbody>\n",
       "</table>\n",
       "</div>"
      ],
      "text/plain": [
       "            Row ID                     Order Date  \\\n",
       "count  10000.00000                          10000   \n",
       "mean    5000.50000  2022-05-14 19:07:40.799999744   \n",
       "min        1.00000            2020-01-01 00:00:00   \n",
       "25%     2500.75000            2021-06-30 00:00:00   \n",
       "50%     5000.50000            2022-07-09 00:00:00   \n",
       "75%     7500.25000            2023-06-03 00:00:00   \n",
       "max    10000.00000            2023-12-31 00:00:00   \n",
       "std     2886.89568                            NaN   \n",
       "\n",
       "                       Dispatch Date         Sales      Quantity  \\\n",
       "count                          10000  10000.000000  10000.000000   \n",
       "mean   2022-05-16 12:04:36.479999744    293.808906      3.777300   \n",
       "min              2020-01-05 00:00:00      2.955000      1.000000   \n",
       "25%              2021-07-05 00:00:00     49.462500      2.000000   \n",
       "50%              2022-07-11 00:00:00    119.355000      3.000000   \n",
       "75%              2023-05-28 00:00:00    320.708625      5.000000   \n",
       "max              2023-12-31 00:00:00   7958.580000     14.000000   \n",
       "std                              NaN    486.055635      2.203268   \n",
       "\n",
       "           Discount        Profit  \n",
       "count  10000.000000  10000.000000  \n",
       "mean       0.103105     37.282974  \n",
       "min        0.000000  -3059.820000  \n",
       "25%        0.000000      1.320000  \n",
       "50%        0.000000     14.220000  \n",
       "75%        0.100000     48.510000  \n",
       "max        0.850000   3979.080000  \n",
       "std        0.174782    178.100384  "
      ]
     },
     "execution_count": 8,
     "metadata": {},
     "output_type": "execute_result"
    }
   ],
   "source": [
    "df.describe()"
   ]
  },
  {
   "cell_type": "markdown",
   "id": "020031e7-2026-4a71-8fc2-4cb0aa64e0d1",
   "metadata": {},
   "source": [
    "##### Unique values of dataset"
   ]
  },
  {
   "cell_type": "code",
   "execution_count": 18,
   "id": "ab74d5fc-245a-4108-bb1c-2df62ff1f80d",
   "metadata": {},
   "outputs": [
    {
     "data": {
      "text/plain": [
       "Row ID            10000\n",
       "Order ID           4596\n",
       "Order Date         1253\n",
       "Dispatch Date      1360\n",
       "Delivery Mode         4\n",
       "Customer ID         795\n",
       "Customer Name       795\n",
       "Segment               3\n",
       "City               1055\n",
       "State/Province      127\n",
       "Country/Region       15\n",
       "Region                3\n",
       "Product ID         1915\n",
       "Category              3\n",
       "Sub-Category         17\n",
       "Product Name       1856\n",
       "Sales              6604\n",
       "Quantity             14\n",
       "Discount             14\n",
       "Profit             5673\n",
       "dtype: int64"
      ]
     },
     "execution_count": 18,
     "metadata": {},
     "output_type": "execute_result"
    }
   ],
   "source": [
    "df.nunique()"
   ]
  },
  {
   "cell_type": "code",
   "execution_count": 19,
   "id": "682b98fc-bd37-477d-80ea-01b069ffb84c",
   "metadata": {},
   "outputs": [
    {
     "data": {
      "text/plain": [
       "Delivery Mode\n",
       "Standard Class    6054\n",
       "Second Class      1976\n",
       "First Class       1454\n",
       "Same Day           516\n",
       "Name: count, dtype: int64"
      ]
     },
     "execution_count": 19,
     "metadata": {},
     "output_type": "execute_result"
    }
   ],
   "source": [
    "df['Delivery Mode'].value_counts()"
   ]
  },
  {
   "cell_type": "code",
   "execution_count": 20,
   "id": "be93f9cc-c41e-4996-b4f0-7d07115c789c",
   "metadata": {},
   "outputs": [
    {
     "data": {
      "text/plain": [
       "<Axes: xlabel='Delivery Mode'>"
      ]
     },
     "execution_count": 20,
     "metadata": {},
     "output_type": "execute_result"
    },
    {
     "data": {
      "image/png": "[encoded data removed]",
      "text/plain": [
       "<Figure size 640x480 with 1 Axes>"
      ]
     },
     "metadata": {},
     "output_type": "display_data"
    }
   ],
   "source": [
    "((df['Delivery Mode'].value_counts()/len(df['Delivery Mode']))*100).plot(kind = 'bar', color = 'green')"
   ]
  },
  {
   "cell_type": "code",
   "execution_count": 21,
   "id": "710100f3-030f-41bf-8b78-e52d87e2b32f",
   "metadata": {},
   "outputs": [
    {
     "data": {
      "text/html": [
       "<div>\n",
       "<style scoped>\n",
       "    .dataframe tbody tr th:only-of-type {\n",
       "        vertical-align: middle;\n",
       "    }\n",
       "\n",
       "    .dataframe tbody tr th {\n",
       "        vertical-align: top;\n",
       "    }\n",
       "\n",
       "    .dataframe thead th {\n",
       "        text-align: right;\n",
       "    }\n",
       "</style>\n",
       "<table border=\"1\" class=\"dataframe\">\n",
       "  <thead>\n",
       "    <tr style=\"text-align: right;\">\n",
       "      <th></th>\n",
       "      <th>Region</th>\n",
       "      <th>Profit</th>\n",
       "    </tr>\n",
       "  </thead>\n",
       "  <tbody>\n",
       "    <tr>\n",
       "      <th>0</th>\n",
       "      <td>Central</td>\n",
       "      <td>215534.0685</td>\n",
       "    </tr>\n",
       "    <tr>\n",
       "      <th>1</th>\n",
       "      <td>North</td>\n",
       "      <td>91779.8550</td>\n",
       "    </tr>\n",
       "    <tr>\n",
       "      <th>2</th>\n",
       "      <td>South</td>\n",
       "      <td>65515.8180</td>\n",
       "    </tr>\n",
       "  </tbody>\n",
       "</table>\n",
       "</div>"
      ],
      "text/plain": [
       "    Region       Profit\n",
       "0  Central  215534.0685\n",
       "1    North   91779.8550\n",
       "2    South   65515.8180"
      ]
     },
     "execution_count": 21,
     "metadata": {},
     "output_type": "execute_result"
    }
   ],
   "source": [
    "region_profit = df.groupby('Region')['Profit'].sum().reset_index()\n",
    "region_profit"
   ]
  },
  {
   "cell_type": "markdown",
   "id": "ac52b018-3f4c-44d9-90b8-d818cbcda640",
   "metadata": {},
   "source": [
    "##### Region wise Profit (Plot)"
   ]
  },
  {
   "cell_type": "code",
   "execution_count": 37,
   "id": "17b3fe16-41a0-4585-ab93-669ea49e2626",
   "metadata": {},
   "outputs": [
    {
     "data": {
      "image/png": "[encoded data removed]",
      "text/plain": [
       "<Figure size 640x480 with 1 Axes>"
      ]
     },
     "metadata": {},
     "output_type": "display_data"
    }
   ],
   "source": [
    "sns.barplot( data=region_profit, x='Region', y='Profit')\n",
    "plt.title('Total Profit by Region')\n",
    "plt.show()"
   ]
  },
  {
   "cell_type": "markdown",
   "id": "0680088c-6cf6-450c-9f8a-663f0b53aae2",
   "metadata": {},
   "source": [
    "##### Sales VS Profit"
   ]
  },
  {
   "cell_type": "code",
   "execution_count": 33,
   "id": "e55aa230-f4c2-4925-8a4c-99841341da24",
   "metadata": {
    "scrolled": true
   },
   "outputs": [
    {
     "data": {
      "image/png": "[encoded data removed]",
      "text/plain": [
       "<Figure size 640x480 with 1 Axes>"
      ]
     },
     "metadata": {},
     "output_type": "display_data"
    }
   ],
   "source": [
    "sns.scatterplot(data = df, x='Sales', y='Profit', hue='Region')\n",
    "plt.title('Scatter Plot: Sales vs Profit')\n",
    "plt.show()"
   ]
  },
  {
   "cell_type": "markdown",
   "id": "d0af363b-bd56-4db3-8516-05e3df0dc397",
   "metadata": {},
   "source": [
    "##### Sales and Profit based on Region"
   ]
  },
  {
   "cell_type": "code",
   "execution_count": 24,
   "id": "23224ca7-683a-4e76-bf3b-f856b26a3809",
   "metadata": {},
   "outputs": [
    {
     "data": {
      "image/png": "[encoded data removed]",
      "text/plain": [
       "<Figure size 1000x400 with 2 Axes>"
      ]
     },
     "metadata": {},
     "output_type": "display_data"
    }
   ],
   "source": [
    "plt.figure(figsize= (10,4))\n",
    "plt.subplot(1, 2, 1)\n",
    "df.groupby(\"Region\")[\"Sales\"].sum().plot.pie(autopct = \"%1.0f%%\")\n",
    "plt.title(\"Region Vs Sales\")\n",
    "plt.subplot(1, 2, 2)\n",
    "df.groupby(\"Region\")[\"Profit\"].sum().plot.pie(autopct = \"%1.0f%%\")\n",
    "plt.title(\"Region vs Profit\")\n",
    "plt.show()"
   ]
  },
  {
   "cell_type": "markdown",
   "id": "e90c9ed6-c796-46e2-b6a4-c9f90a111492",
   "metadata": {},
   "source": [
    "##### Sales and Profit based on Segemnt"
   ]
  },
  {
   "cell_type": "code",
   "execution_count": 28,
   "id": "137f87b5-0f2b-43ab-876e-63701118a841",
   "metadata": {},
   "outputs": [
    {
     "data": {
      "image/png": "[encoded data removed]",
      "text/plain": [
       "<Figure size 1000x400 with 2 Axes>"
      ]
     },
     "metadata": {},
     "output_type": "display_data"
    }
   ],
   "source": [
    "fig = plt.figure(figsize=(10, 4))\n",
    "\n",
    "# First subplot (Segment Vs Sales)\n",
    "plt.subplot(1, 2, 1)\n",
    "df.groupby(\"Segment\").Sales.sum().plot.bar(color=['green', 'blue', 'red'])\n",
    "plt.title(\"Segment Vs Sales\")\n",
    "\n",
    "# Add some space between subplots\n",
    "plt.subplots_adjust(wspace=0.8)\n",
    "\n",
    "# Second subplot (Segment Vs Profit)\n",
    "plt.subplot(1, 2, 2)\n",
    "df.groupby(\"Segment\").Profit.sum().plot.bar(color=['green', 'blue', 'red'])\n",
    "plt.title(\"Segment Vs Profit\")\n",
    "\n",
    "plt.show()"
   ]
  },
  {
   "cell_type": "markdown",
   "id": "2d716dd8-2267-4342-ad1c-7a315ab0809e",
   "metadata": {},
   "source": [
    "##### Sales and Profit based on Category"
   ]
  },
  {
   "cell_type": "code",
   "execution_count": 29,
   "id": "b75e9f42-1eaf-480d-a3d9-cd3da8670554",
   "metadata": {},
   "outputs": [
    {
     "data": {
      "text/plain": [
       "Category\n",
       "Furniture          7.791030e+05\n",
       "Office Supplies    1.046307e+06\n",
       "Technology         1.112679e+06\n",
       "Name: Sales, dtype: float64"
      ]
     },
     "execution_count": 29,
     "metadata": {},
     "output_type": "execute_result"
    }
   ],
   "source": [
    "df.groupby(\"Category\").Sales.sum()"
   ]
  },
  {
   "cell_type": "code",
   "execution_count": 30,
   "id": "f240d4fe-4ff7-4d53-9495-49f7b1e60235",
   "metadata": {},
   "outputs": [
    {
     "data": {
      "text/plain": [
       "Category\n",
       "Furniture           68850.1395\n",
       "Office Supplies    159706.9440\n",
       "Technology         144272.6580\n",
       "Name: Profit, dtype: float64"
      ]
     },
     "execution_count": 30,
     "metadata": {},
     "output_type": "execute_result"
    }
   ],
   "source": [
    "df.groupby(\"Category\").Profit.sum()"
   ]
  },
  {
   "cell_type": "markdown",
   "id": "ec9de2c2-21f5-493f-9479-4d282fc11d18",
   "metadata": {},
   "source": [
    "#### Comparision between Discount and Total Sales Based on Category."
   ]
  },
  {
   "cell_type": "code",
   "execution_count": 31,
   "id": "26d496ba-8771-49c5-af99-f6ac2ba5581d",
   "metadata": {},
   "outputs": [
    {
     "data": {
      "text/html": [
       "<div>\n",
       "<style scoped>\n",
       "    .dataframe tbody tr th:only-of-type {\n",
       "        vertical-align: middle;\n",
       "    }\n",
       "\n",
       "    .dataframe tbody tr th {\n",
       "        vertical-align: top;\n",
       "    }\n",
       "\n",
       "    .dataframe thead th {\n",
       "        text-align: right;\n",
       "    }\n",
       "</style>\n",
       "<table border=\"1\" class=\"dataframe\">\n",
       "  <thead>\n",
       "    <tr style=\"text-align: right;\">\n",
       "      <th></th>\n",
       "      <th>Discount</th>\n",
       "      <th>Category</th>\n",
       "      <th>Sales</th>\n",
       "    </tr>\n",
       "  </thead>\n",
       "  <tbody>\n",
       "    <tr>\n",
       "      <th>0</th>\n",
       "      <td>0.00</td>\n",
       "      <td>Furniture</td>\n",
       "      <td>293134.5600</td>\n",
       "    </tr>\n",
       "    <tr>\n",
       "      <th>1</th>\n",
       "      <td>0.00</td>\n",
       "      <td>Office Supplies</td>\n",
       "      <td>590459.1300</td>\n",
       "    </tr>\n",
       "    <tr>\n",
       "      <th>2</th>\n",
       "      <td>0.00</td>\n",
       "      <td>Technology</td>\n",
       "      <td>638862.1200</td>\n",
       "    </tr>\n",
       "    <tr>\n",
       "      <th>3</th>\n",
       "      <td>0.10</td>\n",
       "      <td>Furniture</td>\n",
       "      <td>312155.7480</td>\n",
       "    </tr>\n",
       "    <tr>\n",
       "      <th>4</th>\n",
       "      <td>0.10</td>\n",
       "      <td>Office Supplies</td>\n",
       "      <td>340179.8040</td>\n",
       "    </tr>\n",
       "    <tr>\n",
       "      <th>5</th>\n",
       "      <td>0.10</td>\n",
       "      <td>Technology</td>\n",
       "      <td>110076.4890</td>\n",
       "    </tr>\n",
       "    <tr>\n",
       "      <th>6</th>\n",
       "      <td>0.15</td>\n",
       "      <td>Technology</td>\n",
       "      <td>256321.3335</td>\n",
       "    </tr>\n",
       "    <tr>\n",
       "      <th>7</th>\n",
       "      <td>0.20</td>\n",
       "      <td>Furniture</td>\n",
       "      <td>29812.7760</td>\n",
       "    </tr>\n",
       "    <tr>\n",
       "      <th>8</th>\n",
       "      <td>0.20</td>\n",
       "      <td>Office Supplies</td>\n",
       "      <td>12799.7040</td>\n",
       "    </tr>\n",
       "    <tr>\n",
       "      <th>9</th>\n",
       "      <td>0.30</td>\n",
       "      <td>Furniture</td>\n",
       "      <td>6137.2290</td>\n",
       "    </tr>\n",
       "    <tr>\n",
       "      <th>10</th>\n",
       "      <td>0.35</td>\n",
       "      <td>Furniture</td>\n",
       "      <td>54160.0410</td>\n",
       "    </tr>\n",
       "    <tr>\n",
       "      <th>11</th>\n",
       "      <td>0.40</td>\n",
       "      <td>Furniture</td>\n",
       "      <td>885.7080</td>\n",
       "    </tr>\n",
       "    <tr>\n",
       "      <th>12</th>\n",
       "      <td>0.40</td>\n",
       "      <td>Office Supplies</td>\n",
       "      <td>30261.5280</td>\n",
       "    </tr>\n",
       "    <tr>\n",
       "      <th>13</th>\n",
       "      <td>0.40</td>\n",
       "      <td>Technology</td>\n",
       "      <td>38939.7960</td>\n",
       "    </tr>\n",
       "    <tr>\n",
       "      <th>14</th>\n",
       "      <td>0.45</td>\n",
       "      <td>Furniture</td>\n",
       "      <td>2546.4285</td>\n",
       "    </tr>\n",
       "    <tr>\n",
       "      <th>15</th>\n",
       "      <td>0.50</td>\n",
       "      <td>Furniture</td>\n",
       "      <td>53063.2200</td>\n",
       "    </tr>\n",
       "    <tr>\n",
       "      <th>16</th>\n",
       "      <td>0.50</td>\n",
       "      <td>Office Supplies</td>\n",
       "      <td>68771.6100</td>\n",
       "    </tr>\n",
       "    <tr>\n",
       "      <th>17</th>\n",
       "      <td>0.50</td>\n",
       "      <td>Technology</td>\n",
       "      <td>61899.4350</td>\n",
       "    </tr>\n",
       "    <tr>\n",
       "      <th>18</th>\n",
       "      <td>0.60</td>\n",
       "      <td>Furniture</td>\n",
       "      <td>22594.1160</td>\n",
       "    </tr>\n",
       "    <tr>\n",
       "      <th>19</th>\n",
       "      <td>0.60</td>\n",
       "      <td>Office Supplies</td>\n",
       "      <td>3835.2480</td>\n",
       "    </tr>\n",
       "    <tr>\n",
       "      <th>20</th>\n",
       "      <td>0.65</td>\n",
       "      <td>Technology</td>\n",
       "      <td>6579.8145</td>\n",
       "    </tr>\n",
       "    <tr>\n",
       "      <th>21</th>\n",
       "      <td>0.70</td>\n",
       "      <td>Furniture</td>\n",
       "      <td>3657.4650</td>\n",
       "    </tr>\n",
       "    <tr>\n",
       "      <th>22</th>\n",
       "      <td>0.80</td>\n",
       "      <td>Furniture</td>\n",
       "      <td>158.9160</td>\n",
       "    </tr>\n",
       "    <tr>\n",
       "      <th>23</th>\n",
       "      <td>0.85</td>\n",
       "      <td>Furniture</td>\n",
       "      <td>796.8420</td>\n",
       "    </tr>\n",
       "  </tbody>\n",
       "</table>\n",
       "</div>"
      ],
      "text/plain": [
       "    Discount         Category        Sales\n",
       "0       0.00        Furniture  293134.5600\n",
       "1       0.00  Office Supplies  590459.1300\n",
       "2       0.00       Technology  638862.1200\n",
       "3       0.10        Furniture  312155.7480\n",
       "4       0.10  Office Supplies  340179.8040\n",
       "5       0.10       Technology  110076.4890\n",
       "6       0.15       Technology  256321.3335\n",
       "7       0.20        Furniture   29812.7760\n",
       "8       0.20  Office Supplies   12799.7040\n",
       "9       0.30        Furniture    6137.2290\n",
       "10      0.35        Furniture   54160.0410\n",
       "11      0.40        Furniture     885.7080\n",
       "12      0.40  Office Supplies   30261.5280\n",
       "13      0.40       Technology   38939.7960\n",
       "14      0.45        Furniture    2546.4285\n",
       "15      0.50        Furniture   53063.2200\n",
       "16      0.50  Office Supplies   68771.6100\n",
       "17      0.50       Technology   61899.4350\n",
       "18      0.60        Furniture   22594.1160\n",
       "19      0.60  Office Supplies    3835.2480\n",
       "20      0.65       Technology    6579.8145\n",
       "21      0.70        Furniture    3657.4650\n",
       "22      0.80        Furniture     158.9160\n",
       "23      0.85        Furniture     796.8420"
      ]
     },
     "execution_count": 31,
     "metadata": {},
     "output_type": "execute_result"
    }
   ],
   "source": [
    "df5 = df.groupby([\"Discount\",\"Category\"])[\"Sales\"].sum().reset_index()\n",
    "df5"
   ]
  },
  {
   "cell_type": "markdown",
   "id": "dbb38f47-33ab-42db-aa97-810b200c47c9",
   "metadata": {},
   "source": [
    "#### Exploration of Sales, Quantity, and Profit."
   ]
  },
  {
   "cell_type": "code",
   "execution_count": 32,
   "id": "38a46ad9-b223-46cd-9ff3-e421887bc5e6",
   "metadata": {},
   "outputs": [
    {
     "data": {
      "text/plain": [
       "0        39.60\n",
       "1         0.00\n",
       "2        16.11\n",
       "3        13.20\n",
       "4        73.71\n",
       "         ...  \n",
       "9995     23.88\n",
       "9996      0.57\n",
       "9997     28.98\n",
       "9998    221.13\n",
       "9999     50.22\n",
       "Name: abs_profit, Length: 10000, dtype: float64"
      ]
     },
     "execution_count": 32,
     "metadata": {},
     "output_type": "execute_result"
    }
   ],
   "source": [
    "df['abs_profit'] = df['Profit'].abs()\n",
    "df['abs_profit']"
   ]
  },
  {
   "cell_type": "code",
   "execution_count": null,
   "id": "c020811d-deae-4876-990b-a3f4d96d1f3b",
   "metadata": {},
   "outputs": [],
   "source": []
  },
  {
   "cell_type": "code",
   "execution_count": null,
   "id": "b6bc2534-492b-48d3-8a58-c8b024cfd716",
   "metadata": {},
   "outputs": [],
   "source": []
  },
  {
   "cell_type": "code",
   "execution_count": null,
   "id": "3c75613b-c805-494c-b07a-553c12d27d26",
   "metadata": {},
   "outputs": [],
   "source": []
  },
  {
   "cell_type": "code",
   "execution_count": null,
   "id": "e9f5143f-c3c7-46af-9223-ed700ccdddb0",
   "metadata": {},
   "outputs": [],
   "source": []
  },
  {
   "cell_type": "code",
   "execution_count": null,
   "id": "805e735f-5cf0-47b0-b267-1e53629adaa0",
   "metadata": {},
   "outputs": [],
   "source": []
  },
  {
   "cell_type": "code",
   "execution_count": null,
   "id": "6b901342-510d-41ef-b0df-8b62dabc3d6f",
   "metadata": {},
   "outputs": [],
   "source": []
  },
  {
   "cell_type": "code",
   "execution_count": null,
   "id": "1e718cb6-d82e-4b75-94fb-6a0c9060a9df",
   "metadata": {},
   "outputs": [],
   "source": []
  },
  {
   "cell_type": "code",
   "execution_count": null,
   "id": "d6a17cf1-d4c0-40e9-bcc1-5f2762bd81d4",
   "metadata": {},
   "outputs": [],
   "source": []
  }
 ],
 "metadata": {
  "kernelspec": {
   "display_name": "Python 3 (ipykernel)",
   "language": "python",
   "name": "python3"
  },
  "language_info": {
   "codemirror_mode": {
    "name": "ipython",
    "version": 3
   },
   "file_extension": ".py",
   "mimetype": "text/x-python",
   "name": "python",
   "nbconvert_exporter": "python",
   "pygments_lexer": "ipython3",
   "version": "3.11.5"
  }
 },
 "nbformat": 4,
 "nbformat_minor": 5
}
