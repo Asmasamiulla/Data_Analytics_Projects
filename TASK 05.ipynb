{
 "cells": [
  {
   "cell_type": "markdown",
   "id": "8290d178-18dd-4ecf-a756-d90dfbc12467",
   "metadata": {},
   "source": [
    "### TASK :- 05"
   ]
  },
  {
   "cell_type": "markdown",
   "id": "d58119c9-bfeb-4afb-8ef5-0aad9913768f",
   "metadata": {},
   "source": [
    "##### Titanic Survival Prediction."
   ]
  },
  {
   "cell_type": "markdown",
   "id": "eec94412-62fa-4712-8666-fac49025220b",
   "metadata": {},
   "source": [
    "#### libraries (modules or packages)."
   ]
  },
  {
   "cell_type": "code",
   "execution_count": 1,
   "id": "de9875dd-e28d-4317-a320-a022fb166208",
   "metadata": {},
   "outputs": [],
   "source": [
    "import pandas as pd\n",
    "import numpy as np\n",
    "\n",
    "import matplotlib.pyplot as plt\n",
    "import seaborn as sns\n",
    "\n",
    "import warnings\n",
    "warnings.filterwarnings(\"ignore\")\n",
    "\n",
    "from sklearn.model_selection import train_test_split\n",
    "from sklearn.preprocessing import StandardScaler\n",
    "from sklearn.linear_model import LogisticRegression\n",
    "from sklearn import metrics"
   ]
  },
  {
   "cell_type": "markdown",
   "id": "3f24b094-ec18-45a9-ac9b-b73690c662e0",
   "metadata": {},
   "source": [
    "#### Import and understand the dataset."
   ]
  },
  {
   "cell_type": "code",
   "execution_count": 2,
   "id": "744419ae-9034-4738-99ed-8e046d00ac7d",
   "metadata": {},
   "outputs": [
    {
     "data": {
      "text/html": [
       "<div>\n",
       "<style scoped>\n",
       "    .dataframe tbody tr th:only-of-type {\n",
       "        vertical-align: middle;\n",
       "    }\n",
       "\n",
       "    .dataframe tbody tr th {\n",
       "        vertical-align: top;\n",
       "    }\n",
       "\n",
       "    .dataframe thead th {\n",
       "        text-align: right;\n",
       "    }\n",
       "</style>\n",
       "<table border=\"1\" class=\"dataframe\">\n",
       "  <thead>\n",
       "    <tr style=\"text-align: right;\">\n",
       "      <th></th>\n",
       "      <th>PassengerId</th>\n",
       "      <th>Survived</th>\n",
       "      <th>Pclass</th>\n",
       "      <th>Name</th>\n",
       "      <th>Sex</th>\n",
       "      <th>Age</th>\n",
       "      <th>SibSp</th>\n",
       "      <th>Parch</th>\n",
       "      <th>Ticket</th>\n",
       "      <th>Fare</th>\n",
       "      <th>Cabin</th>\n",
       "      <th>Embarked</th>\n",
       "    </tr>\n",
       "  </thead>\n",
       "  <tbody>\n",
       "    <tr>\n",
       "      <th>0</th>\n",
       "      <td>1</td>\n",
       "      <td>0</td>\n",
       "      <td>3</td>\n",
       "      <td>Braund, Mr. Owen Harris</td>\n",
       "      <td>male</td>\n",
       "      <td>22.0</td>\n",
       "      <td>1</td>\n",
       "      <td>0</td>\n",
       "      <td>A/5 21171</td>\n",
       "      <td>7.2500</td>\n",
       "      <td>NaN</td>\n",
       "      <td>S</td>\n",
       "    </tr>\n",
       "    <tr>\n",
       "      <th>1</th>\n",
       "      <td>2</td>\n",
       "      <td>1</td>\n",
       "      <td>1</td>\n",
       "      <td>Cumings, Mrs. John Bradley (Florence Briggs Th...</td>\n",
       "      <td>female</td>\n",
       "      <td>38.0</td>\n",
       "      <td>1</td>\n",
       "      <td>0</td>\n",
       "      <td>PC 17599</td>\n",
       "      <td>71.2833</td>\n",
       "      <td>C85</td>\n",
       "      <td>C</td>\n",
       "    </tr>\n",
       "    <tr>\n",
       "      <th>2</th>\n",
       "      <td>3</td>\n",
       "      <td>1</td>\n",
       "      <td>3</td>\n",
       "      <td>Heikkinen, Miss. Laina</td>\n",
       "      <td>female</td>\n",
       "      <td>26.0</td>\n",
       "      <td>0</td>\n",
       "      <td>0</td>\n",
       "      <td>STON/O2. 3101282</td>\n",
       "      <td>7.9250</td>\n",
       "      <td>NaN</td>\n",
       "      <td>S</td>\n",
       "    </tr>\n",
       "    <tr>\n",
       "      <th>3</th>\n",
       "      <td>4</td>\n",
       "      <td>1</td>\n",
       "      <td>1</td>\n",
       "      <td>Futrelle, Mrs. Jacques Heath (Lily May Peel)</td>\n",
       "      <td>female</td>\n",
       "      <td>35.0</td>\n",
       "      <td>1</td>\n",
       "      <td>0</td>\n",
       "      <td>113803</td>\n",
       "      <td>53.1000</td>\n",
       "      <td>C123</td>\n",
       "      <td>S</td>\n",
       "    </tr>\n",
       "    <tr>\n",
       "      <th>4</th>\n",
       "      <td>5</td>\n",
       "      <td>0</td>\n",
       "      <td>3</td>\n",
       "      <td>Allen, Mr. William Henry</td>\n",
       "      <td>male</td>\n",
       "      <td>35.0</td>\n",
       "      <td>0</td>\n",
       "      <td>0</td>\n",
       "      <td>373450</td>\n",
       "      <td>8.0500</td>\n",
       "      <td>NaN</td>\n",
       "      <td>S</td>\n",
       "    </tr>\n",
       "    <tr>\n",
       "      <th>...</th>\n",
       "      <td>...</td>\n",
       "      <td>...</td>\n",
       "      <td>...</td>\n",
       "      <td>...</td>\n",
       "      <td>...</td>\n",
       "      <td>...</td>\n",
       "      <td>...</td>\n",
       "      <td>...</td>\n",
       "      <td>...</td>\n",
       "      <td>...</td>\n",
       "      <td>...</td>\n",
       "      <td>...</td>\n",
       "    </tr>\n",
       "    <tr>\n",
       "      <th>886</th>\n",
       "      <td>887</td>\n",
       "      <td>0</td>\n",
       "      <td>2</td>\n",
       "      <td>Montvila, Rev. Juozas</td>\n",
       "      <td>male</td>\n",
       "      <td>27.0</td>\n",
       "      <td>0</td>\n",
       "      <td>0</td>\n",
       "      <td>211536</td>\n",
       "      <td>13.0000</td>\n",
       "      <td>NaN</td>\n",
       "      <td>S</td>\n",
       "    </tr>\n",
       "    <tr>\n",
       "      <th>887</th>\n",
       "      <td>888</td>\n",
       "      <td>1</td>\n",
       "      <td>1</td>\n",
       "      <td>Graham, Miss. Margaret Edith</td>\n",
       "      <td>female</td>\n",
       "      <td>19.0</td>\n",
       "      <td>0</td>\n",
       "      <td>0</td>\n",
       "      <td>112053</td>\n",
       "      <td>30.0000</td>\n",
       "      <td>B42</td>\n",
       "      <td>S</td>\n",
       "    </tr>\n",
       "    <tr>\n",
       "      <th>888</th>\n",
       "      <td>889</td>\n",
       "      <td>0</td>\n",
       "      <td>3</td>\n",
       "      <td>Johnston, Miss. Catherine Helen \"Carrie\"</td>\n",
       "      <td>female</td>\n",
       "      <td>NaN</td>\n",
       "      <td>1</td>\n",
       "      <td>2</td>\n",
       "      <td>W./C. 6607</td>\n",
       "      <td>23.4500</td>\n",
       "      <td>NaN</td>\n",
       "      <td>S</td>\n",
       "    </tr>\n",
       "    <tr>\n",
       "      <th>889</th>\n",
       "      <td>890</td>\n",
       "      <td>1</td>\n",
       "      <td>1</td>\n",
       "      <td>Behr, Mr. Karl Howell</td>\n",
       "      <td>male</td>\n",
       "      <td>26.0</td>\n",
       "      <td>0</td>\n",
       "      <td>0</td>\n",
       "      <td>111369</td>\n",
       "      <td>30.0000</td>\n",
       "      <td>C148</td>\n",
       "      <td>C</td>\n",
       "    </tr>\n",
       "    <tr>\n",
       "      <th>890</th>\n",
       "      <td>891</td>\n",
       "      <td>0</td>\n",
       "      <td>3</td>\n",
       "      <td>Dooley, Mr. Patrick</td>\n",
       "      <td>male</td>\n",
       "      <td>32.0</td>\n",
       "      <td>0</td>\n",
       "      <td>0</td>\n",
       "      <td>370376</td>\n",
       "      <td>7.7500</td>\n",
       "      <td>NaN</td>\n",
       "      <td>Q</td>\n",
       "    </tr>\n",
       "  </tbody>\n",
       "</table>\n",
       "<p>891 rows × 12 columns</p>\n",
       "</div>"
      ],
      "text/plain": [
       "     PassengerId  Survived  Pclass  \\\n",
       "0              1         0       3   \n",
       "1              2         1       1   \n",
       "2              3         1       3   \n",
       "3              4         1       1   \n",
       "4              5         0       3   \n",
       "..           ...       ...     ...   \n",
       "886          887         0       2   \n",
       "887          888         1       1   \n",
       "888          889         0       3   \n",
       "889          890         1       1   \n",
       "890          891         0       3   \n",
       "\n",
       "                                                  Name     Sex   Age  SibSp  \\\n",
       "0                              Braund, Mr. Owen Harris    male  22.0      1   \n",
       "1    Cumings, Mrs. John Bradley (Florence Briggs Th...  female  38.0      1   \n",
       "2                               Heikkinen, Miss. Laina  female  26.0      0   \n",
       "3         Futrelle, Mrs. Jacques Heath (Lily May Peel)  female  35.0      1   \n",
       "4                             Allen, Mr. William Henry    male  35.0      0   \n",
       "..                                                 ...     ...   ...    ...   \n",
       "886                              Montvila, Rev. Juozas    male  27.0      0   \n",
       "887                       Graham, Miss. Margaret Edith  female  19.0      0   \n",
       "888           Johnston, Miss. Catherine Helen \"Carrie\"  female   NaN      1   \n",
       "889                              Behr, Mr. Karl Howell    male  26.0      0   \n",
       "890                                Dooley, Mr. Patrick    male  32.0      0   \n",
       "\n",
       "     Parch            Ticket     Fare Cabin Embarked  \n",
       "0        0         A/5 21171   7.2500   NaN        S  \n",
       "1        0          PC 17599  71.2833   C85        C  \n",
       "2        0  STON/O2. 3101282   7.9250   NaN        S  \n",
       "3        0            113803  53.1000  C123        S  \n",
       "4        0            373450   8.0500   NaN        S  \n",
       "..     ...               ...      ...   ...      ...  \n",
       "886      0            211536  13.0000   NaN        S  \n",
       "887      0            112053  30.0000   B42        S  \n",
       "888      2        W./C. 6607  23.4500   NaN        S  \n",
       "889      0            111369  30.0000  C148        C  \n",
       "890      0            370376   7.7500   NaN        Q  \n",
       "\n",
       "[891 rows x 12 columns]"
      ]
     },
     "execution_count": 2,
     "metadata": {},
     "output_type": "execute_result"
    }
   ],
   "source": [
    "df = pd.read_csv(r\"C:\\Users\\Personal\\Downloads\\titanic.csv\")\n",
    "df"
   ]
  },
  {
   "cell_type": "code",
   "execution_count": 27,
   "id": "5bcf8cef-0bc4-4ba0-8fef-6f695cfe66e5",
   "metadata": {},
   "outputs": [
    {
     "name": "stdout",
     "output_type": "stream",
     "text": [
      "<class 'pandas.core.frame.DataFrame'>\n",
      "Index: 889 entries, 0 to 890\n",
      "Data columns (total 9 columns):\n",
      " #   Column       Non-Null Count  Dtype\n",
      "---  ------       --------------  -----\n",
      " 0   PassengerId  889 non-null    int64\n",
      " 1   Survived     889 non-null    int64\n",
      " 2   Pclass       889 non-null    int64\n",
      " 3   Sex          889 non-null    int32\n",
      " 4   SibSp        889 non-null    int64\n",
      " 5   Parch        889 non-null    int64\n",
      " 6   Ticket       889 non-null    int32\n",
      " 7   Fare         889 non-null    int64\n",
      " 8   Embarked     889 non-null    int32\n",
      "dtypes: int32(3), int64(6)\n",
      "memory usage: 59.0 KB\n"
     ]
    }
   ],
   "source": [
    "# Data information and Datatypes\n",
    "df.info()"
   ]
  },
  {
   "cell_type": "code",
   "execution_count": 4,
   "id": "c9d0bb11-fa62-4f6b-986b-c8c4343aaf24",
   "metadata": {},
   "outputs": [
    {
     "data": {
      "text/plain": [
       "PassengerId      0\n",
       "Survived         0\n",
       "Pclass           0\n",
       "Name             0\n",
       "Sex              0\n",
       "Age            177\n",
       "SibSp            0\n",
       "Parch            0\n",
       "Ticket           0\n",
       "Fare             0\n",
       "Cabin          687\n",
       "Embarked         2\n",
       "dtype: int64"
      ]
     },
     "execution_count": 4,
     "metadata": {},
     "output_type": "execute_result"
    }
   ],
   "source": [
    "# Missing values\n",
    "df.isnull().sum()"
   ]
  },
  {
   "cell_type": "markdown",
   "id": "015c0b79-65ea-48ef-8cce-84ca88fc1400",
   "metadata": {},
   "source": [
    "Due to nearly 80% of the data being absent, we have decided to drop the column and drop unwanted columns"
   ]
  },
  {
   "cell_type": "code",
   "execution_count": 5,
   "id": "a9d765a6-26d9-4230-a21b-ef68dccf2d49",
   "metadata": {},
   "outputs": [],
   "source": [
    "df.drop(['Cabin', 'Age','Name'], axis=1, inplace=True)"
   ]
  },
  {
   "cell_type": "code",
   "execution_count": 6,
   "id": "49e3ad0d-486e-48e3-a0b6-20fece052e72",
   "metadata": {},
   "outputs": [
    {
     "data": {
      "text/plain": [
       "PassengerId    0\n",
       "Survived       0\n",
       "Pclass         0\n",
       "Sex            0\n",
       "SibSp          0\n",
       "Parch          0\n",
       "Ticket         0\n",
       "Fare           0\n",
       "Embarked       2\n",
       "dtype: int64"
      ]
     },
     "execution_count": 6,
     "metadata": {},
     "output_type": "execute_result"
    }
   ],
   "source": [
    "df.isnull().sum()"
   ]
  },
  {
   "cell_type": "code",
   "execution_count": 7,
   "id": "21ca5464-c918-4d5e-9d35-f9a44eb529f5",
   "metadata": {},
   "outputs": [],
   "source": [
    "df.dropna(inplace=True)"
   ]
  },
  {
   "cell_type": "code",
   "execution_count": 8,
   "id": "adf0d0c7-bdee-4eb7-8797-70bb0712466e",
   "metadata": {},
   "outputs": [
    {
     "data": {
      "text/plain": [
       "(889, 9)"
      ]
     },
     "execution_count": 8,
     "metadata": {},
     "output_type": "execute_result"
    }
   ],
   "source": [
    "# check shape\n",
    "df.shape"
   ]
  },
  {
   "cell_type": "markdown",
   "id": "e9baafe3-9957-4f53-bb75-dfc4a01be637",
   "metadata": {},
   "source": [
    "##### Label Encoding."
   ]
  },
  {
   "cell_type": "code",
   "execution_count": 9,
   "id": "3f4d4c0c-4b34-4628-b984-a27c74af5fd3",
   "metadata": {},
   "outputs": [
    {
     "data": {
      "text/html": [
       "<div>\n",
       "<style scoped>\n",
       "    .dataframe tbody tr th:only-of-type {\n",
       "        vertical-align: middle;\n",
       "    }\n",
       "\n",
       "    .dataframe tbody tr th {\n",
       "        vertical-align: top;\n",
       "    }\n",
       "\n",
       "    .dataframe thead th {\n",
       "        text-align: right;\n",
       "    }\n",
       "</style>\n",
       "<table border=\"1\" class=\"dataframe\">\n",
       "  <thead>\n",
       "    <tr style=\"text-align: right;\">\n",
       "      <th></th>\n",
       "      <th>PassengerId</th>\n",
       "      <th>Survived</th>\n",
       "      <th>Pclass</th>\n",
       "      <th>Sex</th>\n",
       "      <th>SibSp</th>\n",
       "      <th>Parch</th>\n",
       "      <th>Ticket</th>\n",
       "      <th>Fare</th>\n",
       "      <th>Embarked</th>\n",
       "    </tr>\n",
       "  </thead>\n",
       "  <tbody>\n",
       "    <tr>\n",
       "      <th>0</th>\n",
       "      <td>0</td>\n",
       "      <td>0</td>\n",
       "      <td>2</td>\n",
       "      <td>1</td>\n",
       "      <td>1</td>\n",
       "      <td>0</td>\n",
       "      <td>522</td>\n",
       "      <td>18</td>\n",
       "      <td>2</td>\n",
       "    </tr>\n",
       "    <tr>\n",
       "      <th>1</th>\n",
       "      <td>1</td>\n",
       "      <td>1</td>\n",
       "      <td>0</td>\n",
       "      <td>0</td>\n",
       "      <td>1</td>\n",
       "      <td>0</td>\n",
       "      <td>595</td>\n",
       "      <td>207</td>\n",
       "      <td>0</td>\n",
       "    </tr>\n",
       "    <tr>\n",
       "      <th>2</th>\n",
       "      <td>2</td>\n",
       "      <td>1</td>\n",
       "      <td>2</td>\n",
       "      <td>0</td>\n",
       "      <td>0</td>\n",
       "      <td>0</td>\n",
       "      <td>668</td>\n",
       "      <td>41</td>\n",
       "      <td>2</td>\n",
       "    </tr>\n",
       "    <tr>\n",
       "      <th>3</th>\n",
       "      <td>3</td>\n",
       "      <td>1</td>\n",
       "      <td>0</td>\n",
       "      <td>0</td>\n",
       "      <td>1</td>\n",
       "      <td>0</td>\n",
       "      <td>48</td>\n",
       "      <td>189</td>\n",
       "      <td>2</td>\n",
       "    </tr>\n",
       "    <tr>\n",
       "      <th>4</th>\n",
       "      <td>4</td>\n",
       "      <td>0</td>\n",
       "      <td>2</td>\n",
       "      <td>1</td>\n",
       "      <td>0</td>\n",
       "      <td>0</td>\n",
       "      <td>471</td>\n",
       "      <td>43</td>\n",
       "      <td>2</td>\n",
       "    </tr>\n",
       "  </tbody>\n",
       "</table>\n",
       "</div>"
      ],
      "text/plain": [
       "   PassengerId  Survived  Pclass  Sex  SibSp  Parch  Ticket  Fare  Embarked\n",
       "0            0         0       2    1      1      0     522    18         2\n",
       "1            1         1       0    0      1      0     595   207         0\n",
       "2            2         1       2    0      0      0     668    41         2\n",
       "3            3         1       0    0      1      0      48   189         2\n",
       "4            4         0       2    1      0      0     471    43         2"
      ]
     },
     "execution_count": 9,
     "metadata": {},
     "output_type": "execute_result"
    }
   ],
   "source": [
    "from sklearn.preprocessing import LabelEncoder\n",
    "\n",
    "encode = LabelEncoder()\n",
    "\n",
    "for i in df.drop('Survived', axis=1).columns:\n",
    "    df[i] = encode.fit_transform(df[[i]])\n",
    "\n",
    "df.head()"
   ]
  },
  {
   "cell_type": "markdown",
   "id": "3bce5134-2c4b-4257-81a4-6be2c0e77e91",
   "metadata": {},
   "source": [
    "After label encoding, the categorical object was converted to integer format."
   ]
  },
  {
   "cell_type": "code",
   "execution_count": 11,
   "id": "6d77030f-f212-4783-8211-8e0e55d5a90a",
   "metadata": {},
   "outputs": [
    {
     "name": "stdout",
     "output_type": "stream",
     "text": [
      "<class 'pandas.core.frame.DataFrame'>\n",
      "Index: 889 entries, 0 to 890\n",
      "Data columns (total 9 columns):\n",
      " #   Column       Non-Null Count  Dtype\n",
      "---  ------       --------------  -----\n",
      " 0   PassengerId  889 non-null    int64\n",
      " 1   Survived     889 non-null    int64\n",
      " 2   Pclass       889 non-null    int64\n",
      " 3   Sex          889 non-null    int32\n",
      " 4   SibSp        889 non-null    int64\n",
      " 5   Parch        889 non-null    int64\n",
      " 6   Ticket       889 non-null    int32\n",
      " 7   Fare         889 non-null    int64\n",
      " 8   Embarked     889 non-null    int32\n",
      "dtypes: int32(3), int64(6)\n",
      "memory usage: 59.0 KB\n"
     ]
    }
   ],
   "source": [
    "df.info()"
   ]
  },
  {
   "cell_type": "markdown",
   "id": "f2011b11-dba9-438f-8f13-f58f3fd4f72d",
   "metadata": {},
   "source": [
    "#### Training a Logistic Regression Model."
   ]
  },
  {
   "cell_type": "code",
   "execution_count": 12,
   "id": "63ec938c-7650-463e-9584-a09e67b7e4e8",
   "metadata": {},
   "outputs": [],
   "source": [
    "X = df.drop('Survived', axis = 1)\n",
    "y = df['Survived']"
   ]
  },
  {
   "cell_type": "markdown",
   "id": "3a466ca9-8290-4a42-b7ea-213d06680ed7",
   "metadata": {},
   "source": [
    "#### Train Test Split"
   ]
  },
  {
   "cell_type": "markdown",
   "id": "2e1e74ea-8752-4ab4-a328-1aeb59bfc775",
   "metadata": {},
   "source": [
    "Logistic regression model and split the data into training and testing sets."
   ]
  },
  {
   "cell_type": "code",
   "execution_count": 17,
   "id": "d9adef03-d4c7-4d48-b154-2f66b5662a4b",
   "metadata": {},
   "outputs": [],
   "source": [
    "from sklearn.model_selection import train_test_split\n",
    "\n",
    "X_train, X_test, y_train, y_test = train_test_split(X, y, random_state=42, test_size=0.3, stratify=y)\n",
    "\n",
    "model = LogisticRegression(solver = 'newton-cg', \n",
    "                           max_iter=10000, n_jobs=-1,\n",
    "                          class_weight={0: 0.15, 1:0.85})"
   ]
  },
  {
   "cell_type": "code",
   "execution_count": 18,
   "id": "af8f241d-ed60-4ef9-b23c-e860172bfdcd",
   "metadata": {},
   "outputs": [
    {
     "data": {
      "text/html": [
       "<style>#sk-container-id-1 {color: black;}#sk-container-id-1 pre{padding: 0;}#sk-container-id-1 div.sk-toggleable {background-color: white;}#sk-container-id-1 label.sk-toggleable__label {cursor: pointer;display: block;width: 100%;margin-bottom: 0;padding: 0.3em;box-sizing: border-box;text-align: center;}#sk-container-id-1 label.sk-toggleable__label-arrow:before {content: \"▸\";float: left;margin-right: 0.25em;color: #696969;}#sk-container-id-1 label.sk-toggleable__label-arrow:hover:before {color: black;}#sk-container-id-1 div.sk-estimator:hover label.sk-toggleable__label-arrow:before {color: black;}#sk-container-id-1 div.sk-toggleable__content {max-height: 0;max-width: 0;overflow: hidden;text-align: left;background-color: #f0f8ff;}#sk-container-id-1 div.sk-toggleable__content pre {margin: 0.2em;color: black;border-radius: 0.25em;background-color: #f0f8ff;}#sk-container-id-1 input.sk-toggleable__control:checked~div.sk-toggleable__content {max-height: 200px;max-width: 100%;overflow: auto;}#sk-container-id-1 input.sk-toggleable__control:checked~label.sk-toggleable__label-arrow:before {content: \"▾\";}#sk-container-id-1 div.sk-estimator input.sk-toggleable__control:checked~label.sk-toggleable__label {background-color: #d4ebff;}#sk-container-id-1 div.sk-label input.sk-toggleable__control:checked~label.sk-toggleable__label {background-color: #d4ebff;}#sk-container-id-1 input.sk-hidden--visually {border: 0;clip: rect(1px 1px 1px 1px);clip: rect(1px, 1px, 1px, 1px);height: 1px;margin: -1px;overflow: hidden;padding: 0;position: absolute;width: 1px;}#sk-container-id-1 div.sk-estimator {font-family: monospace;background-color: #f0f8ff;border: 1px dotted black;border-radius: 0.25em;box-sizing: border-box;margin-bottom: 0.5em;}#sk-container-id-1 div.sk-estimator:hover {background-color: #d4ebff;}#sk-container-id-1 div.sk-parallel-item::after {content: \"\";width: 100%;border-bottom: 1px solid gray;flex-grow: 1;}#sk-container-id-1 div.sk-label:hover label.sk-toggleable__label {background-color: #d4ebff;}#sk-container-id-1 div.sk-serial::before {content: \"\";position: absolute;border-left: 1px solid gray;box-sizing: border-box;top: 0;bottom: 0;left: 50%;z-index: 0;}#sk-container-id-1 div.sk-serial {display: flex;flex-direction: column;align-items: center;background-color: white;padding-right: 0.2em;padding-left: 0.2em;position: relative;}#sk-container-id-1 div.sk-item {position: relative;z-index: 1;}#sk-container-id-1 div.sk-parallel {display: flex;align-items: stretch;justify-content: center;background-color: white;position: relative;}#sk-container-id-1 div.sk-item::before, #sk-container-id-1 div.sk-parallel-item::before {content: \"\";position: absolute;border-left: 1px solid gray;box-sizing: border-box;top: 0;bottom: 0;left: 50%;z-index: -1;}#sk-container-id-1 div.sk-parallel-item {display: flex;flex-direction: column;z-index: 1;position: relative;background-color: white;}#sk-container-id-1 div.sk-parallel-item:first-child::after {align-self: flex-end;width: 50%;}#sk-container-id-1 div.sk-parallel-item:last-child::after {align-self: flex-start;width: 50%;}#sk-container-id-1 div.sk-parallel-item:only-child::after {width: 0;}#sk-container-id-1 div.sk-dashed-wrapped {border: 1px dashed gray;margin: 0 0.4em 0.5em 0.4em;box-sizing: border-box;padding-bottom: 0.4em;background-color: white;}#sk-container-id-1 div.sk-label label {font-family: monospace;font-weight: bold;display: inline-block;line-height: 1.2em;}#sk-container-id-1 div.sk-label-container {text-align: center;}#sk-container-id-1 div.sk-container {/* jupyter's `normalize.less` sets `[hidden] { display: none; }` but bootstrap.min.css set `[hidden] { display: none !important; }` so we also need the `!important` here to be able to override the default hidden behavior on the sphinx rendered scikit-learn.org. See: https://github.com/scikit-learn/scikit-learn/issues/21755 */display: inline-block !important;position: relative;}#sk-container-id-1 div.sk-text-repr-fallback {display: none;}</style><div id=\"sk-container-id-1\" class=\"sk-top-container\"><div class=\"sk-text-repr-fallback\"><pre>LogisticRegression(class_weight={0: 0.15, 1: 0.85}, max_iter=10000, n_jobs=-1,\n",
       "                   solver=&#x27;newton-cg&#x27;)</pre><b>In a Jupyter environment, please rerun this cell to show the HTML representation or trust the notebook. <br />On GitHub, the HTML representation is unable to render, please try loading this page with nbviewer.org.</b></div><div class=\"sk-container\" hidden><div class=\"sk-item\"><div class=\"sk-estimator sk-toggleable\"><input class=\"sk-toggleable__control sk-hidden--visually\" id=\"sk-estimator-id-1\" type=\"checkbox\" checked><label for=\"sk-estimator-id-1\" class=\"sk-toggleable__label sk-toggleable__label-arrow\">LogisticRegression</label><div class=\"sk-toggleable__content\"><pre>LogisticRegression(class_weight={0: 0.15, 1: 0.85}, max_iter=10000, n_jobs=-1,\n",
       "                   solver=&#x27;newton-cg&#x27;)</pre></div></div></div></div></div>"
      ],
      "text/plain": [
       "LogisticRegression(class_weight={0: 0.15, 1: 0.85}, max_iter=10000, n_jobs=-1,\n",
       "                   solver='newton-cg')"
      ]
     },
     "execution_count": 18,
     "metadata": {},
     "output_type": "execute_result"
    }
   ],
   "source": [
    "model.fit(X_train, y_train)"
   ]
  },
  {
   "cell_type": "code",
   "execution_count": 19,
   "id": "775babd6-9fa3-44ad-b16a-2c624134ca81",
   "metadata": {},
   "outputs": [],
   "source": [
    "pred = model.predict(X_test)"
   ]
  },
  {
   "cell_type": "code",
   "execution_count": 20,
   "id": "76bf07aa-d916-4c29-adb8-659c64d76eec",
   "metadata": {},
   "outputs": [
    {
     "data": {
      "text/plain": [
       "array([[80, 85],\n",
       "       [15, 87]], dtype=int64)"
      ]
     },
     "execution_count": 20,
     "metadata": {},
     "output_type": "execute_result"
    }
   ],
   "source": [
    "metrics.confusion_matrix(y_test,pred)"
   ]
  },
  {
   "cell_type": "code",
   "execution_count": 21,
   "id": "4160a157-4898-4980-b73c-30a5f19274e9",
   "metadata": {},
   "outputs": [
    {
     "name": "stdout",
     "output_type": "stream",
     "text": [
      "              precision    recall  f1-score   support\n",
      "\n",
      "           0       0.84      0.48      0.62       165\n",
      "           1       0.51      0.85      0.64       102\n",
      "\n",
      "    accuracy                           0.63       267\n",
      "   macro avg       0.67      0.67      0.63       267\n",
      "weighted avg       0.71      0.63      0.62       267\n",
      "\n"
     ]
    }
   ],
   "source": [
    "print(metrics.classification_report(y_test, pred))"
   ]
  },
  {
   "cell_type": "code",
   "execution_count": 22,
   "id": "a60a29d3-4ce4-4e4b-a2d1-bcbb4d38c4aa",
   "metadata": {},
   "outputs": [
    {
     "data": {
      "text/plain": [
       "array([[0.00972613, 0.99027387],\n",
       "       [0.3343234 , 0.6656766 ],\n",
       "       [0.69008589, 0.30991411],\n",
       "       [0.05682254, 0.94317746],\n",
       "       [0.0226497 , 0.9773503 ],\n",
       "       [0.51895614, 0.48104386],\n",
       "       [0.32787447, 0.67212553],\n",
       "       [0.12532071, 0.87467929],\n",
       "       [0.36529786, 0.63470214],\n",
       "       [0.36165754, 0.63834246],\n",
       "       [0.11629846, 0.88370154],\n",
       "       [0.63471459, 0.36528541],\n",
       "       [0.25941427, 0.74058573],\n",
       "       [0.74489474, 0.25510526],\n",
       "       [0.67814503, 0.32185497],\n",
       "       [0.12866635, 0.87133365],\n",
       "       [0.02163203, 0.97836797],\n",
       "       [0.58979129, 0.41020871],\n",
       "       [0.3572946 , 0.6427054 ],\n",
       "       [0.44492257, 0.55507743],\n",
       "       [0.01427275, 0.98572725],\n",
       "       [0.09695816, 0.90304184],\n",
       "       [0.45475758, 0.54524242],\n",
       "       [0.6074099 , 0.3925901 ],\n",
       "       [0.16771912, 0.83228088],\n",
       "       [0.68668083, 0.31331917],\n",
       "       [0.30037194, 0.69962806],\n",
       "       [0.62506199, 0.37493801],\n",
       "       [0.03655667, 0.96344333],\n",
       "       [0.6709177 , 0.3290823 ],\n",
       "       [0.59620211, 0.40379789],\n",
       "       [0.58399703, 0.41600297],\n",
       "       [0.21739412, 0.78260588],\n",
       "       [0.02963153, 0.97036847],\n",
       "       [0.47311359, 0.52688641],\n",
       "       [0.0276577 , 0.9723423 ],\n",
       "       [0.04971277, 0.95028723],\n",
       "       [0.50752385, 0.49247615],\n",
       "       [0.40814208, 0.59185792],\n",
       "       [0.10734977, 0.89265023],\n",
       "       [0.03616703, 0.96383297],\n",
       "       [0.07384977, 0.92615023],\n",
       "       [0.01451688, 0.98548312],\n",
       "       [0.2605209 , 0.7394791 ],\n",
       "       [0.66338265, 0.33661735],\n",
       "       [0.67587752, 0.32412248],\n",
       "       [0.48351522, 0.51648478],\n",
       "       [0.58142334, 0.41857666],\n",
       "       [0.33163095, 0.66836905],\n",
       "       [0.05451668, 0.94548332],\n",
       "       [0.23758457, 0.76241543],\n",
       "       [0.51856617, 0.48143383],\n",
       "       [0.58309234, 0.41690766],\n",
       "       [0.58902931, 0.41097069],\n",
       "       [0.36021404, 0.63978596],\n",
       "       [0.04231901, 0.95768099],\n",
       "       [0.29747245, 0.70252755],\n",
       "       [0.07661854, 0.92338146],\n",
       "       [0.58631245, 0.41368755],\n",
       "       [0.3520867 , 0.6479133 ],\n",
       "       [0.58492578, 0.41507422],\n",
       "       [0.67126898, 0.32873102],\n",
       "       [0.24165608, 0.75834392],\n",
       "       [0.52498868, 0.47501132],\n",
       "       [0.398146  , 0.601854  ],\n",
       "       [0.19022504, 0.80977496],\n",
       "       [0.35438457, 0.64561543],\n",
       "       [0.32024893, 0.67975107],\n",
       "       [0.19352969, 0.80647031],\n",
       "       [0.11211296, 0.88788704],\n",
       "       [0.14274605, 0.85725395],\n",
       "       [0.17204811, 0.82795189],\n",
       "       [0.56928979, 0.43071021],\n",
       "       [0.13777278, 0.86222722],\n",
       "       [0.56058524, 0.43941476],\n",
       "       [0.35017187, 0.64982813],\n",
       "       [0.47800479, 0.52199521],\n",
       "       [0.0283828 , 0.9716172 ],\n",
       "       [0.15444609, 0.84555391],\n",
       "       [0.62028493, 0.37971507],\n",
       "       [0.01452289, 0.98547711],\n",
       "       [0.49213726, 0.50786274],\n",
       "       [0.09489454, 0.90510546],\n",
       "       [0.15622562, 0.84377438],\n",
       "       [0.31105769, 0.68894231],\n",
       "       [0.39619402, 0.60380598],\n",
       "       [0.48037845, 0.51962155],\n",
       "       [0.34567664, 0.65432336],\n",
       "       [0.3444448 , 0.6555552 ],\n",
       "       [0.23424725, 0.76575275],\n",
       "       [0.19546586, 0.80453414],\n",
       "       [0.24119318, 0.75880682],\n",
       "       [0.58927718, 0.41072282],\n",
       "       [0.57610617, 0.42389383],\n",
       "       [0.02522323, 0.97477677],\n",
       "       [0.13041827, 0.86958173],\n",
       "       [0.5910412 , 0.4089588 ],\n",
       "       [0.09376073, 0.90623927],\n",
       "       [0.54877986, 0.45122014],\n",
       "       [0.29991173, 0.70008827],\n",
       "       [0.04315395, 0.95684605],\n",
       "       [0.27964861, 0.72035139],\n",
       "       [0.61726032, 0.38273968],\n",
       "       [0.58945579, 0.41054421],\n",
       "       [0.06133666, 0.93866334],\n",
       "       [0.1923396 , 0.8076604 ],\n",
       "       [0.70361824, 0.29638176],\n",
       "       [0.52527486, 0.47472514],\n",
       "       [0.12899861, 0.87100139],\n",
       "       [0.83357599, 0.16642401],\n",
       "       [0.18694894, 0.81305106],\n",
       "       [0.83259845, 0.16740155],\n",
       "       [0.19637149, 0.80362851],\n",
       "       [0.11561789, 0.88438211],\n",
       "       [0.05675749, 0.94324251],\n",
       "       [0.07401096, 0.92598904],\n",
       "       [0.04222482, 0.95777518],\n",
       "       [0.13152516, 0.86847484],\n",
       "       [0.22154789, 0.77845211],\n",
       "       [0.09288987, 0.90711013],\n",
       "       [0.38103542, 0.61896458],\n",
       "       [0.02492643, 0.97507357],\n",
       "       [0.6352196 , 0.3647804 ],\n",
       "       [0.1564793 , 0.8435207 ],\n",
       "       [0.05491429, 0.94508571],\n",
       "       [0.18109724, 0.81890276],\n",
       "       [0.09616104, 0.90383896],\n",
       "       [0.53042726, 0.46957274],\n",
       "       [0.51107794, 0.48892206],\n",
       "       [0.13903719, 0.86096281],\n",
       "       [0.0396817 , 0.9603183 ],\n",
       "       [0.68523052, 0.31476948],\n",
       "       [0.59391997, 0.40608003],\n",
       "       [0.21015093, 0.78984907],\n",
       "       [0.1767582 , 0.8232418 ],\n",
       "       [0.02475433, 0.97524567],\n",
       "       [0.11344463, 0.88655537],\n",
       "       [0.73479214, 0.26520786],\n",
       "       [0.02663199, 0.97336801],\n",
       "       [0.52507093, 0.47492907],\n",
       "       [0.08196695, 0.91803305],\n",
       "       [0.59414715, 0.40585285],\n",
       "       [0.19581239, 0.80418761],\n",
       "       [0.33122257, 0.66877743],\n",
       "       [0.57654142, 0.42345858],\n",
       "       [0.30272235, 0.69727765],\n",
       "       [0.13870225, 0.86129775],\n",
       "       [0.67152432, 0.32847568],\n",
       "       [0.51542664, 0.48457336],\n",
       "       [0.35654819, 0.64345181],\n",
       "       [0.13281715, 0.86718285],\n",
       "       [0.11609961, 0.88390039],\n",
       "       [0.4084579 , 0.5915421 ],\n",
       "       [0.29935206, 0.70064794],\n",
       "       [0.53218689, 0.46781311],\n",
       "       [0.6043609 , 0.3956391 ],\n",
       "       [0.03226128, 0.96773872],\n",
       "       [0.06949826, 0.93050174],\n",
       "       [0.15933886, 0.84066114],\n",
       "       [0.58652443, 0.41347557],\n",
       "       [0.08794316, 0.91205684],\n",
       "       [0.12733097, 0.87266903],\n",
       "       [0.46992559, 0.53007441],\n",
       "       [0.06943135, 0.93056865],\n",
       "       [0.6320823 , 0.3679177 ],\n",
       "       [0.75292633, 0.24707367],\n",
       "       [0.13856451, 0.86143549],\n",
       "       [0.52555975, 0.47444025],\n",
       "       [0.60590152, 0.39409848],\n",
       "       [0.02761701, 0.97238299],\n",
       "       [0.5240645 , 0.4759355 ],\n",
       "       [0.59085785, 0.40914215],\n",
       "       [0.01870568, 0.98129432],\n",
       "       [0.03848822, 0.96151178],\n",
       "       [0.66364164, 0.33635836],\n",
       "       [0.63351852, 0.36648148],\n",
       "       [0.05815209, 0.94184791],\n",
       "       [0.68964524, 0.31035476],\n",
       "       [0.14251097, 0.85748903],\n",
       "       [0.75020715, 0.24979285],\n",
       "       [0.57808052, 0.42191948],\n",
       "       [0.56120932, 0.43879068],\n",
       "       [0.47184813, 0.52815187],\n",
       "       [0.09603279, 0.90396721],\n",
       "       [0.58878209, 0.41121791],\n",
       "       [0.55625987, 0.44374013],\n",
       "       [0.14665933, 0.85334067],\n",
       "       [0.5825701 , 0.4174299 ],\n",
       "       [0.61728187, 0.38271813],\n",
       "       [0.10539474, 0.89460526],\n",
       "       [0.08875508, 0.91124492],\n",
       "       [0.10593311, 0.89406689],\n",
       "       [0.58487211, 0.41512789],\n",
       "       [0.14562457, 0.85437543],\n",
       "       [0.01134966, 0.98865034],\n",
       "       [0.62252738, 0.37747262],\n",
       "       [0.11737385, 0.88262615],\n",
       "       [0.20572769, 0.79427231],\n",
       "       [0.07221869, 0.92778131],\n",
       "       [0.06828721, 0.93171279],\n",
       "       [0.59881305, 0.40118695],\n",
       "       [0.57908898, 0.42091102],\n",
       "       [0.02893912, 0.97106088],\n",
       "       [0.59480308, 0.40519692],\n",
       "       [0.10378546, 0.89621454],\n",
       "       [0.37365895, 0.62634105],\n",
       "       [0.65726313, 0.34273687],\n",
       "       [0.83693079, 0.16306921],\n",
       "       [0.62753003, 0.37246997],\n",
       "       [0.18703989, 0.81296011],\n",
       "       [0.20621787, 0.79378213],\n",
       "       [0.12036139, 0.87963861],\n",
       "       [0.56071805, 0.43928195],\n",
       "       [0.59411726, 0.40588274],\n",
       "       [0.83047173, 0.16952827],\n",
       "       [0.57639761, 0.42360239],\n",
       "       [0.60070098, 0.39929902],\n",
       "       [0.01629988, 0.98370012],\n",
       "       [0.10894346, 0.89105654],\n",
       "       [0.63035233, 0.36964767],\n",
       "       [0.56826953, 0.43173047],\n",
       "       [0.68787939, 0.31212061],\n",
       "       [0.10943013, 0.89056987],\n",
       "       [0.16164884, 0.83835116],\n",
       "       [0.04934703, 0.95065297],\n",
       "       [0.06248676, 0.93751324],\n",
       "       [0.1886051 , 0.8113949 ],\n",
       "       [0.59485771, 0.40514229],\n",
       "       [0.59891406, 0.40108594],\n",
       "       [0.04392697, 0.95607303],\n",
       "       [0.37408196, 0.62591804],\n",
       "       [0.39744706, 0.60255294],\n",
       "       [0.06049869, 0.93950131],\n",
       "       [0.25663755, 0.74336245],\n",
       "       [0.12383086, 0.87616914],\n",
       "       [0.13198981, 0.86801019],\n",
       "       [0.3430416 , 0.6569584 ],\n",
       "       [0.49524477, 0.50475523],\n",
       "       [0.50087246, 0.49912754],\n",
       "       [0.62186135, 0.37813865],\n",
       "       [0.52164366, 0.47835634],\n",
       "       [0.59422787, 0.40577213],\n",
       "       [0.5748438 , 0.4251562 ],\n",
       "       [0.86153116, 0.13846884],\n",
       "       [0.13096367, 0.86903633],\n",
       "       [0.48822395, 0.51177605],\n",
       "       [0.71319217, 0.28680783],\n",
       "       [0.39791099, 0.60208901],\n",
       "       [0.61229763, 0.38770237],\n",
       "       [0.17844354, 0.82155646],\n",
       "       [0.1624854 , 0.8375146 ],\n",
       "       [0.39887641, 0.60112359],\n",
       "       [0.23960032, 0.76039968],\n",
       "       [0.02007143, 0.97992857],\n",
       "       [0.18081794, 0.81918206],\n",
       "       [0.60612973, 0.39387027],\n",
       "       [0.18456377, 0.81543623],\n",
       "       [0.59039107, 0.40960893],\n",
       "       [0.01093159, 0.98906841],\n",
       "       [0.12320537, 0.87679463],\n",
       "       [0.35306277, 0.64693723],\n",
       "       [0.43875565, 0.56124435],\n",
       "       [0.10359297, 0.89640703],\n",
       "       [0.18801892, 0.81198108],\n",
       "       [0.49731999, 0.50268001],\n",
       "       [0.61226333, 0.38773667],\n",
       "       [0.16059957, 0.83940043]])"
      ]
     },
     "execution_count": 22,
     "metadata": {},
     "output_type": "execute_result"
    }
   ],
   "source": [
    "model.predict_proba(X_test)"
   ]
  },
  {
   "cell_type": "code",
   "execution_count": 23,
   "id": "ccefd7d1-8076-4695-a573-098206772233",
   "metadata": {},
   "outputs": [
    {
     "data": {
      "application/javascript": [
       "\n",
       "        if (window._pyforest_update_imports_cell) { window._pyforest_update_imports_cell('import statsmodels.api as sm'); }\n",
       "    "
      ],
      "text/plain": [
       "<IPython.core.display.Javascript object>"
      ]
     },
     "metadata": {},
     "output_type": "display_data"
    }
   ],
   "source": [
    "X_c = sm.add_constant(X)\n",
    "X_c_train, X_c_test , y_train, y_test = train_test_split(X, y,test_size=0.3, random_state=42)"
   ]
  },
  {
   "cell_type": "code",
   "execution_count": 24,
   "id": "100b79ad-9654-4a8d-978c-30a81dee5251",
   "metadata": {},
   "outputs": [
    {
     "data": {
      "application/javascript": [
       "\n",
       "        if (window._pyforest_update_imports_cell) { window._pyforest_update_imports_cell('import statsmodels.api as sm'); }\n",
       "    "
      ],
      "text/plain": [
       "<IPython.core.display.Javascript object>"
      ]
     },
     "metadata": {},
     "output_type": "display_data"
    },
    {
     "name": "stdout",
     "output_type": "stream",
     "text": [
      "Optimization terminated successfully.\n",
      "         Current function value: 0.457689\n",
      "         Iterations 6\n"
     ]
    },
    {
     "data": {
      "text/html": [
       "<table class=\"simpletable\">\n",
       "<caption>Logit Regression Results</caption>\n",
       "<tr>\n",
       "  <th>Dep. Variable:</th>       <td>Survived</td>     <th>  No. Observations:  </th>  <td>   622</td>  \n",
       "</tr>\n",
       "<tr>\n",
       "  <th>Model:</th>                 <td>Logit</td>      <th>  Df Residuals:      </th>  <td>   614</td>  \n",
       "</tr>\n",
       "<tr>\n",
       "  <th>Method:</th>                 <td>MLE</td>       <th>  Df Model:          </th>  <td>     7</td>  \n",
       "</tr>\n",
       "<tr>\n",
       "  <th>Date:</th>            <td>Sun, 24 Mar 2024</td> <th>  Pseudo R-squ.:     </th>  <td>0.3137</td>  \n",
       "</tr>\n",
       "<tr>\n",
       "  <th>Time:</th>                <td>13:45:35</td>     <th>  Log-Likelihood:    </th> <td> -284.68</td> \n",
       "</tr>\n",
       "<tr>\n",
       "  <th>converged:</th>             <td>True</td>       <th>  LL-Null:           </th> <td> -414.78</td> \n",
       "</tr>\n",
       "<tr>\n",
       "  <th>Covariance Type:</th>     <td>nonrobust</td>    <th>  LLR p-value:       </th> <td>1.861e-52</td>\n",
       "</tr>\n",
       "</table>\n",
       "<table class=\"simpletable\">\n",
       "<tr>\n",
       "       <td></td>          <th>coef</th>     <th>std err</th>      <th>z</th>      <th>P>|z|</th>  <th>[0.025</th>    <th>0.975]</th>  \n",
       "</tr>\n",
       "<tr>\n",
       "  <th>PassengerId</th> <td>    0.0006</td> <td>    0.000</td> <td>    1.428</td> <td> 0.153</td> <td>   -0.000</td> <td>    0.001</td>\n",
       "</tr>\n",
       "<tr>\n",
       "  <th>Pclass</th>      <td>    0.1906</td> <td>    0.152</td> <td>    1.254</td> <td> 0.210</td> <td>   -0.107</td> <td>    0.489</td>\n",
       "</tr>\n",
       "<tr>\n",
       "  <th>Sex</th>         <td>   -2.5327</td> <td>    0.227</td> <td>  -11.152</td> <td> 0.000</td> <td>   -2.978</td> <td>   -2.088</td>\n",
       "</tr>\n",
       "<tr>\n",
       "  <th>SibSp</th>       <td>   -0.5749</td> <td>    0.143</td> <td>   -4.034</td> <td> 0.000</td> <td>   -0.854</td> <td>   -0.296</td>\n",
       "</tr>\n",
       "<tr>\n",
       "  <th>Parch</th>       <td>   -0.2794</td> <td>    0.138</td> <td>   -2.022</td> <td> 0.043</td> <td>   -0.550</td> <td>   -0.009</td>\n",
       "</tr>\n",
       "<tr>\n",
       "  <th>Ticket</th>      <td>   -0.0012</td> <td>    0.001</td> <td>   -2.148</td> <td> 0.032</td> <td>   -0.002</td> <td>   -0.000</td>\n",
       "</tr>\n",
       "<tr>\n",
       "  <th>Fare</th>        <td>    0.0151</td> <td>    0.002</td> <td>    7.841</td> <td> 0.000</td> <td>    0.011</td> <td>    0.019</td>\n",
       "</tr>\n",
       "<tr>\n",
       "  <th>Embarked</th>    <td>   -0.1867</td> <td>    0.124</td> <td>   -1.511</td> <td> 0.131</td> <td>   -0.429</td> <td>    0.056</td>\n",
       "</tr>\n",
       "</table>"
      ],
      "text/latex": [
       "\\begin{center}\n",
       "\\begin{tabular}{lclc}\n",
       "\\toprule\n",
       "\\textbf{Dep. Variable:}   &     Survived     & \\textbf{  No. Observations:  } &      622    \\\\\n",
       "\\textbf{Model:}           &      Logit       & \\textbf{  Df Residuals:      } &      614    \\\\\n",
       "\\textbf{Method:}          &       MLE        & \\textbf{  Df Model:          } &        7    \\\\\n",
       "\\textbf{Date:}            & Sun, 24 Mar 2024 & \\textbf{  Pseudo R-squ.:     } &   0.3137    \\\\\n",
       "\\textbf{Time:}            &     13:45:35     & \\textbf{  Log-Likelihood:    } &   -284.68   \\\\\n",
       "\\textbf{converged:}       &       True       & \\textbf{  LL-Null:           } &   -414.78   \\\\\n",
       "\\textbf{Covariance Type:} &    nonrobust     & \\textbf{  LLR p-value:       } & 1.861e-52   \\\\\n",
       "\\bottomrule\n",
       "\\end{tabular}\n",
       "\\begin{tabular}{lcccccc}\n",
       "                     & \\textbf{coef} & \\textbf{std err} & \\textbf{z} & \\textbf{P$> |$z$|$} & \\textbf{[0.025} & \\textbf{0.975]}  \\\\\n",
       "\\midrule\n",
       "\\textbf{PassengerId} &       0.0006  &        0.000     &     1.428  &         0.153        &       -0.000    &        0.001     \\\\\n",
       "\\textbf{Pclass}      &       0.1906  &        0.152     &     1.254  &         0.210        &       -0.107    &        0.489     \\\\\n",
       "\\textbf{Sex}         &      -2.5327  &        0.227     &   -11.152  &         0.000        &       -2.978    &       -2.088     \\\\\n",
       "\\textbf{SibSp}       &      -0.5749  &        0.143     &    -4.034  &         0.000        &       -0.854    &       -0.296     \\\\\n",
       "\\textbf{Parch}       &      -0.2794  &        0.138     &    -2.022  &         0.043        &       -0.550    &       -0.009     \\\\\n",
       "\\textbf{Ticket}      &      -0.0012  &        0.001     &    -2.148  &         0.032        &       -0.002    &       -0.000     \\\\\n",
       "\\textbf{Fare}        &       0.0151  &        0.002     &     7.841  &         0.000        &        0.011    &        0.019     \\\\\n",
       "\\textbf{Embarked}    &      -0.1867  &        0.124     &    -1.511  &         0.131        &       -0.429    &        0.056     \\\\\n",
       "\\bottomrule\n",
       "\\end{tabular}\n",
       "%\\caption{Logit Regression Results}\n",
       "\\end{center}"
      ],
      "text/plain": [
       "<class 'statsmodels.iolib.summary.Summary'>\n",
       "\"\"\"\n",
       "                           Logit Regression Results                           \n",
       "==============================================================================\n",
       "Dep. Variable:               Survived   No. Observations:                  622\n",
       "Model:                          Logit   Df Residuals:                      614\n",
       "Method:                           MLE   Df Model:                            7\n",
       "Date:                Sun, 24 Mar 2024   Pseudo R-squ.:                  0.3137\n",
       "Time:                        13:45:35   Log-Likelihood:                -284.68\n",
       "converged:                       True   LL-Null:                       -414.78\n",
       "Covariance Type:            nonrobust   LLR p-value:                 1.861e-52\n",
       "===============================================================================\n",
       "                  coef    std err          z      P>|z|      [0.025      0.975]\n",
       "-------------------------------------------------------------------------------\n",
       "PassengerId     0.0006      0.000      1.428      0.153      -0.000       0.001\n",
       "Pclass          0.1906      0.152      1.254      0.210      -0.107       0.489\n",
       "Sex            -2.5327      0.227    -11.152      0.000      -2.978      -2.088\n",
       "SibSp          -0.5749      0.143     -4.034      0.000      -0.854      -0.296\n",
       "Parch          -0.2794      0.138     -2.022      0.043      -0.550      -0.009\n",
       "Ticket         -0.0012      0.001     -2.148      0.032      -0.002      -0.000\n",
       "Fare            0.0151      0.002      7.841      0.000       0.011       0.019\n",
       "Embarked       -0.1867      0.124     -1.511      0.131      -0.429       0.056\n",
       "===============================================================================\n",
       "\"\"\""
      ]
     },
     "execution_count": 24,
     "metadata": {},
     "output_type": "execute_result"
    }
   ],
   "source": [
    "logit = sm.Logit(y_train,X_c_train.astype(float)).fit()\n",
    "logit.summary()"
   ]
  },
  {
   "cell_type": "markdown",
   "id": "14d1b7b4-e544-4495-bd97-646b3b68cc60",
   "metadata": {},
   "source": [
    "#### Decision Tree Regressor model using scikit-learn's DecisionTreeRegressor."
   ]
  },
  {
   "cell_type": "code",
   "execution_count": 25,
   "id": "4abe8d21-1880-432c-bb56-8a05f2da4830",
   "metadata": {},
   "outputs": [
    {
     "data": {
      "text/html": [
       "<style>#sk-container-id-2 {color: black;}#sk-container-id-2 pre{padding: 0;}#sk-container-id-2 div.sk-toggleable {background-color: white;}#sk-container-id-2 label.sk-toggleable__label {cursor: pointer;display: block;width: 100%;margin-bottom: 0;padding: 0.3em;box-sizing: border-box;text-align: center;}#sk-container-id-2 label.sk-toggleable__label-arrow:before {content: \"▸\";float: left;margin-right: 0.25em;color: #696969;}#sk-container-id-2 label.sk-toggleable__label-arrow:hover:before {color: black;}#sk-container-id-2 div.sk-estimator:hover label.sk-toggleable__label-arrow:before {color: black;}#sk-container-id-2 div.sk-toggleable__content {max-height: 0;max-width: 0;overflow: hidden;text-align: left;background-color: #f0f8ff;}#sk-container-id-2 div.sk-toggleable__content pre {margin: 0.2em;color: black;border-radius: 0.25em;background-color: #f0f8ff;}#sk-container-id-2 input.sk-toggleable__control:checked~div.sk-toggleable__content {max-height: 200px;max-width: 100%;overflow: auto;}#sk-container-id-2 input.sk-toggleable__control:checked~label.sk-toggleable__label-arrow:before {content: \"▾\";}#sk-container-id-2 div.sk-estimator input.sk-toggleable__control:checked~label.sk-toggleable__label {background-color: #d4ebff;}#sk-container-id-2 div.sk-label input.sk-toggleable__control:checked~label.sk-toggleable__label {background-color: #d4ebff;}#sk-container-id-2 input.sk-hidden--visually {border: 0;clip: rect(1px 1px 1px 1px);clip: rect(1px, 1px, 1px, 1px);height: 1px;margin: -1px;overflow: hidden;padding: 0;position: absolute;width: 1px;}#sk-container-id-2 div.sk-estimator {font-family: monospace;background-color: #f0f8ff;border: 1px dotted black;border-radius: 0.25em;box-sizing: border-box;margin-bottom: 0.5em;}#sk-container-id-2 div.sk-estimator:hover {background-color: #d4ebff;}#sk-container-id-2 div.sk-parallel-item::after {content: \"\";width: 100%;border-bottom: 1px solid gray;flex-grow: 1;}#sk-container-id-2 div.sk-label:hover label.sk-toggleable__label {background-color: #d4ebff;}#sk-container-id-2 div.sk-serial::before {content: \"\";position: absolute;border-left: 1px solid gray;box-sizing: border-box;top: 0;bottom: 0;left: 50%;z-index: 0;}#sk-container-id-2 div.sk-serial {display: flex;flex-direction: column;align-items: center;background-color: white;padding-right: 0.2em;padding-left: 0.2em;position: relative;}#sk-container-id-2 div.sk-item {position: relative;z-index: 1;}#sk-container-id-2 div.sk-parallel {display: flex;align-items: stretch;justify-content: center;background-color: white;position: relative;}#sk-container-id-2 div.sk-item::before, #sk-container-id-2 div.sk-parallel-item::before {content: \"\";position: absolute;border-left: 1px solid gray;box-sizing: border-box;top: 0;bottom: 0;left: 50%;z-index: -1;}#sk-container-id-2 div.sk-parallel-item {display: flex;flex-direction: column;z-index: 1;position: relative;background-color: white;}#sk-container-id-2 div.sk-parallel-item:first-child::after {align-self: flex-end;width: 50%;}#sk-container-id-2 div.sk-parallel-item:last-child::after {align-self: flex-start;width: 50%;}#sk-container-id-2 div.sk-parallel-item:only-child::after {width: 0;}#sk-container-id-2 div.sk-dashed-wrapped {border: 1px dashed gray;margin: 0 0.4em 0.5em 0.4em;box-sizing: border-box;padding-bottom: 0.4em;background-color: white;}#sk-container-id-2 div.sk-label label {font-family: monospace;font-weight: bold;display: inline-block;line-height: 1.2em;}#sk-container-id-2 div.sk-label-container {text-align: center;}#sk-container-id-2 div.sk-container {/* jupyter's `normalize.less` sets `[hidden] { display: none; }` but bootstrap.min.css set `[hidden] { display: none !important; }` so we also need the `!important` here to be able to override the default hidden behavior on the sphinx rendered scikit-learn.org. See: https://github.com/scikit-learn/scikit-learn/issues/21755 */display: inline-block !important;position: relative;}#sk-container-id-2 div.sk-text-repr-fallback {display: none;}</style><div id=\"sk-container-id-2\" class=\"sk-top-container\"><div class=\"sk-text-repr-fallback\"><pre>DecisionTreeClassifier(max_depth=8, min_samples_split=40)</pre><b>In a Jupyter environment, please rerun this cell to show the HTML representation or trust the notebook. <br />On GitHub, the HTML representation is unable to render, please try loading this page with nbviewer.org.</b></div><div class=\"sk-container\" hidden><div class=\"sk-item\"><div class=\"sk-estimator sk-toggleable\"><input class=\"sk-toggleable__control sk-hidden--visually\" id=\"sk-estimator-id-2\" type=\"checkbox\" checked><label for=\"sk-estimator-id-2\" class=\"sk-toggleable__label sk-toggleable__label-arrow\">DecisionTreeClassifier</label><div class=\"sk-toggleable__content\"><pre>DecisionTreeClassifier(max_depth=8, min_samples_split=40)</pre></div></div></div></div></div>"
      ],
      "text/plain": [
       "DecisionTreeClassifier(max_depth=8, min_samples_split=40)"
      ]
     },
     "execution_count": 25,
     "metadata": {},
     "output_type": "execute_result"
    }
   ],
   "source": [
    "from sklearn.tree import DecisionTreeClassifier\n",
    "\n",
    "tree = DecisionTreeClassifier(max_depth=8, min_samples_split=40)\n",
    "\n",
    "tree.fit(X_train,y_train)"
   ]
  },
  {
   "cell_type": "code",
   "execution_count": 26,
   "id": "84937244-9fc1-4a59-9b52-7bea7881cbc5",
   "metadata": {},
   "outputs": [
    {
     "name": "stdout",
     "output_type": "stream",
     "text": [
      "              precision    recall  f1-score   support\n",
      "\n",
      "           0       0.60      0.73      0.66       167\n",
      "           1       0.31      0.20      0.24       100\n",
      "\n",
      "    accuracy                           0.53       267\n",
      "   macro avg       0.46      0.47      0.45       267\n",
      "weighted avg       0.49      0.53      0.50       267\n",
      "\n"
     ]
    }
   ],
   "source": [
    "pred = tree.predict(X_test)\n",
    "print(metrics.classification_report(y_test,pred))"
   ]
  },
  {
   "cell_type": "code",
   "execution_count": null,
   "id": "51787b63-d981-42ef-87fa-e84e3223ef21",
   "metadata": {},
   "outputs": [],
   "source": []
  },
  {
   "cell_type": "code",
   "execution_count": null,
   "id": "5323906d-9383-4733-9cd8-0b5ae017fb69",
   "metadata": {},
   "outputs": [],
   "source": []
  },
  {
   "cell_type": "code",
   "execution_count": null,
   "id": "ffb02ff5-e298-4163-a228-778dd7d3d2f6",
   "metadata": {},
   "outputs": [],
   "source": []
  },
  {
   "cell_type": "code",
   "execution_count": null,
   "id": "ef4945ed-115b-4114-a1b2-b83a338fc04d",
   "metadata": {},
   "outputs": [],
   "source": []
  },
  {
   "cell_type": "code",
   "execution_count": null,
   "id": "fc2571ba-ac80-48cb-82cc-89d6dbc959db",
   "metadata": {},
   "outputs": [],
   "source": []
  },
  {
   "cell_type": "code",
   "execution_count": null,
   "id": "927d870a-bdbb-4430-bb31-1394bb8668e1",
   "metadata": {},
   "outputs": [],
   "source": []
  },
  {
   "cell_type": "code",
   "execution_count": null,
   "id": "913484bd-9e0d-46ee-a4f6-161f22049aa8",
   "metadata": {},
   "outputs": [],
   "source": []
  }
 ],
 "metadata": {
  "kernelspec": {
   "display_name": "Python 3 (ipykernel)",
   "language": "python",
   "name": "python3"
  },
  "language_info": {
   "codemirror_mode": {
    "name": "ipython",
    "version": 3
   },
   "file_extension": ".py",
   "mimetype": "text/x-python",
   "name": "python",
   "nbconvert_exporter": "python",
   "pygments_lexer": "ipython3",
   "version": "3.11.5"
  }
 },
 "nbformat": 4,
 "nbformat_minor": 5
}
